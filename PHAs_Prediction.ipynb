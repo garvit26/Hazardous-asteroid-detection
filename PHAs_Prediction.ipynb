{
  "cells": [
    {
      "cell_type": "markdown",
      "metadata": {
        "id": "view-in-github",
        "colab_type": "text"
      },
      "source": [
        "<a href=\"https://colab.research.google.com/github/garvit26/Hazardous-asteroid-detection/blob/main/PHAs_Prediction.ipynb\" target=\"_parent\"><img src=\"https://colab.research.google.com/assets/colab-badge.svg\" alt=\"Open In Colab\"/></a>"
      ]
    },
    {
      "cell_type": "code",
      "execution_count": null,
      "id": "5dc60b82",
      "metadata": {
        "id": "5dc60b82"
      },
      "outputs": [],
      "source": [
        "import pandas as pd\n",
        "import numpy as np\n",
        "import matplotlib.pyplot as plt\n",
        "import seaborn as sns"
      ]
    },
    {
      "cell_type": "code",
      "execution_count": null,
      "id": "a4ba4695",
      "metadata": {
        "id": "a4ba4695",
        "outputId": "fe9eda97-2471-40d3-ad33-4215ad629248"
      },
      "outputs": [
        {
          "data": {
            "text/html": [
              "<div>\n",
              "<style scoped>\n",
              "    .dataframe tbody tr th:only-of-type {\n",
              "        vertical-align: middle;\n",
              "    }\n",
              "\n",
              "    .dataframe tbody tr th {\n",
              "        vertical-align: top;\n",
              "    }\n",
              "\n",
              "    .dataframe thead th {\n",
              "        text-align: right;\n",
              "    }\n",
              "</style>\n",
              "<table border=\"1\" class=\"dataframe\">\n",
              "  <thead>\n",
              "    <tr style=\"text-align: right;\">\n",
              "      <th></th>\n",
              "      <th>id</th>\n",
              "      <th>spkid</th>\n",
              "      <th>full_name</th>\n",
              "      <th>pdes</th>\n",
              "      <th>name</th>\n",
              "      <th>prefix</th>\n",
              "      <th>neo</th>\n",
              "      <th>pha</th>\n",
              "      <th>H</th>\n",
              "      <th>diameter</th>\n",
              "      <th>...</th>\n",
              "      <th>sigma_i</th>\n",
              "      <th>sigma_om</th>\n",
              "      <th>sigma_w</th>\n",
              "      <th>sigma_ma</th>\n",
              "      <th>sigma_ad</th>\n",
              "      <th>sigma_n</th>\n",
              "      <th>sigma_tp</th>\n",
              "      <th>sigma_per</th>\n",
              "      <th>class</th>\n",
              "      <th>rms</th>\n",
              "    </tr>\n",
              "  </thead>\n",
              "  <tbody>\n",
              "    <tr>\n",
              "      <th>0</th>\n",
              "      <td>a0000001</td>\n",
              "      <td>2000001</td>\n",
              "      <td>1 Ceres</td>\n",
              "      <td>1</td>\n",
              "      <td>Ceres</td>\n",
              "      <td>NaN</td>\n",
              "      <td>N</td>\n",
              "      <td>N</td>\n",
              "      <td>3.40</td>\n",
              "      <td>939.400</td>\n",
              "      <td>...</td>\n",
              "      <td>4.608900e-09</td>\n",
              "      <td>6.168800e-08</td>\n",
              "      <td>6.624800e-08</td>\n",
              "      <td>7.820700e-09</td>\n",
              "      <td>1.111300e-11</td>\n",
              "      <td>1.196500e-12</td>\n",
              "      <td>3.782900e-08</td>\n",
              "      <td>9.415900e-09</td>\n",
              "      <td>MBA</td>\n",
              "      <td>0.43301</td>\n",
              "    </tr>\n",
              "    <tr>\n",
              "      <th>1</th>\n",
              "      <td>a0000002</td>\n",
              "      <td>2000002</td>\n",
              "      <td>2 Pallas</td>\n",
              "      <td>2</td>\n",
              "      <td>Pallas</td>\n",
              "      <td>NaN</td>\n",
              "      <td>N</td>\n",
              "      <td>N</td>\n",
              "      <td>4.20</td>\n",
              "      <td>545.000</td>\n",
              "      <td>...</td>\n",
              "      <td>3.469400e-06</td>\n",
              "      <td>6.272400e-06</td>\n",
              "      <td>9.128200e-06</td>\n",
              "      <td>8.859100e-06</td>\n",
              "      <td>4.961300e-09</td>\n",
              "      <td>4.653600e-10</td>\n",
              "      <td>4.078700e-05</td>\n",
              "      <td>3.680700e-06</td>\n",
              "      <td>MBA</td>\n",
              "      <td>0.35936</td>\n",
              "    </tr>\n",
              "    <tr>\n",
              "      <th>2</th>\n",
              "      <td>a0000003</td>\n",
              "      <td>2000003</td>\n",
              "      <td>3 Juno</td>\n",
              "      <td>3</td>\n",
              "      <td>Juno</td>\n",
              "      <td>NaN</td>\n",
              "      <td>N</td>\n",
              "      <td>N</td>\n",
              "      <td>5.33</td>\n",
              "      <td>246.596</td>\n",
              "      <td>...</td>\n",
              "      <td>3.223100e-06</td>\n",
              "      <td>1.664600e-05</td>\n",
              "      <td>1.772100e-05</td>\n",
              "      <td>8.110400e-06</td>\n",
              "      <td>4.363900e-09</td>\n",
              "      <td>4.413400e-10</td>\n",
              "      <td>3.528800e-05</td>\n",
              "      <td>3.107200e-06</td>\n",
              "      <td>MBA</td>\n",
              "      <td>0.33848</td>\n",
              "    </tr>\n",
              "    <tr>\n",
              "      <th>3</th>\n",
              "      <td>a0000004</td>\n",
              "      <td>2000004</td>\n",
              "      <td>4 Vesta</td>\n",
              "      <td>4</td>\n",
              "      <td>Vesta</td>\n",
              "      <td>NaN</td>\n",
              "      <td>N</td>\n",
              "      <td>N</td>\n",
              "      <td>3.00</td>\n",
              "      <td>525.400</td>\n",
              "      <td>...</td>\n",
              "      <td>2.170600e-07</td>\n",
              "      <td>3.880800e-07</td>\n",
              "      <td>1.789300e-07</td>\n",
              "      <td>1.206800e-06</td>\n",
              "      <td>1.648600e-09</td>\n",
              "      <td>2.612500e-10</td>\n",
              "      <td>4.103700e-06</td>\n",
              "      <td>1.274900e-06</td>\n",
              "      <td>MBA</td>\n",
              "      <td>0.39980</td>\n",
              "    </tr>\n",
              "    <tr>\n",
              "      <th>4</th>\n",
              "      <td>a0000005</td>\n",
              "      <td>2000005</td>\n",
              "      <td>5 Astraea</td>\n",
              "      <td>5</td>\n",
              "      <td>Astraea</td>\n",
              "      <td>NaN</td>\n",
              "      <td>N</td>\n",
              "      <td>N</td>\n",
              "      <td>6.90</td>\n",
              "      <td>106.699</td>\n",
              "      <td>...</td>\n",
              "      <td>2.740800e-06</td>\n",
              "      <td>2.894900e-05</td>\n",
              "      <td>2.984200e-05</td>\n",
              "      <td>8.303800e-06</td>\n",
              "      <td>4.729000e-09</td>\n",
              "      <td>5.522700e-10</td>\n",
              "      <td>3.474300e-05</td>\n",
              "      <td>3.490500e-06</td>\n",
              "      <td>MBA</td>\n",
              "      <td>0.52191</td>\n",
              "    </tr>\n",
              "  </tbody>\n",
              "</table>\n",
              "<p>5 rows × 45 columns</p>\n",
              "</div>"
            ],
            "text/plain": [
              "         id    spkid       full_name pdes     name prefix neo pha     H  \\\n",
              "0  a0000001  2000001         1 Ceres    1    Ceres    NaN   N   N  3.40   \n",
              "1  a0000002  2000002        2 Pallas    2   Pallas    NaN   N   N  4.20   \n",
              "2  a0000003  2000003          3 Juno    3     Juno    NaN   N   N  5.33   \n",
              "3  a0000004  2000004         4 Vesta    4    Vesta    NaN   N   N  3.00   \n",
              "4  a0000005  2000005       5 Astraea    5  Astraea    NaN   N   N  6.90   \n",
              "\n",
              "   diameter  ...       sigma_i      sigma_om       sigma_w      sigma_ma  \\\n",
              "0   939.400  ...  4.608900e-09  6.168800e-08  6.624800e-08  7.820700e-09   \n",
              "1   545.000  ...  3.469400e-06  6.272400e-06  9.128200e-06  8.859100e-06   \n",
              "2   246.596  ...  3.223100e-06  1.664600e-05  1.772100e-05  8.110400e-06   \n",
              "3   525.400  ...  2.170600e-07  3.880800e-07  1.789300e-07  1.206800e-06   \n",
              "4   106.699  ...  2.740800e-06  2.894900e-05  2.984200e-05  8.303800e-06   \n",
              "\n",
              "       sigma_ad       sigma_n      sigma_tp     sigma_per  class      rms  \n",
              "0  1.111300e-11  1.196500e-12  3.782900e-08  9.415900e-09    MBA  0.43301  \n",
              "1  4.961300e-09  4.653600e-10  4.078700e-05  3.680700e-06    MBA  0.35936  \n",
              "2  4.363900e-09  4.413400e-10  3.528800e-05  3.107200e-06    MBA  0.33848  \n",
              "3  1.648600e-09  2.612500e-10  4.103700e-06  1.274900e-06    MBA  0.39980  \n",
              "4  4.729000e-09  5.522700e-10  3.474300e-05  3.490500e-06    MBA  0.52191  \n",
              "\n",
              "[5 rows x 45 columns]"
            ]
          },
          "execution_count": 2,
          "metadata": {},
          "output_type": "execute_result"
        }
      ],
      "source": [
        "df = pd.read_csv('dataset.csv', low_memory=False)\n",
        "df.head()"
      ]
    },
    {
      "cell_type": "code",
      "execution_count": null,
      "id": "3f5b08b4",
      "metadata": {
        "id": "3f5b08b4",
        "outputId": "1cd32b0d-5f9d-4a43-8a13-df36b56c35ed"
      },
      "outputs": [
        {
          "name": "stdout",
          "output_type": "stream",
          "text": [
            "<class 'pandas.core.frame.DataFrame'>\n",
            "RangeIndex: 958524 entries, 0 to 958523\n",
            "Data columns (total 45 columns):\n",
            " #   Column          Non-Null Count   Dtype  \n",
            "---  ------          --------------   -----  \n",
            " 0   id              958524 non-null  object \n",
            " 1   spkid           958524 non-null  int64  \n",
            " 2   full_name       958524 non-null  object \n",
            " 3   pdes            958524 non-null  object \n",
            " 4   name            22064 non-null   object \n",
            " 5   prefix          18 non-null      object \n",
            " 6   neo             958520 non-null  object \n",
            " 7   pha             938603 non-null  object \n",
            " 8   H               952261 non-null  float64\n",
            " 9   diameter        136209 non-null  float64\n",
            " 10  albedo          135103 non-null  float64\n",
            " 11  diameter_sigma  136081 non-null  float64\n",
            " 12  orbit_id        958524 non-null  object \n",
            " 13  epoch           958524 non-null  float64\n",
            " 14  epoch_mjd       958524 non-null  int64  \n",
            " 15  epoch_cal       958524 non-null  float64\n",
            " 16  equinox         958524 non-null  object \n",
            " 17  e               958524 non-null  float64\n",
            " 18  a               958524 non-null  float64\n",
            " 19  q               958524 non-null  float64\n",
            " 20  i               958524 non-null  float64\n",
            " 21  om              958524 non-null  float64\n",
            " 22  w               958524 non-null  float64\n",
            " 23  ma              958523 non-null  float64\n",
            " 24  ad              958520 non-null  float64\n",
            " 25  n               958524 non-null  float64\n",
            " 26  tp              958524 non-null  float64\n",
            " 27  tp_cal          958524 non-null  float64\n",
            " 28  per             958520 non-null  float64\n",
            " 29  per_y           958523 non-null  float64\n",
            " 30  moid            938603 non-null  float64\n",
            " 31  moid_ld         958397 non-null  float64\n",
            " 32  sigma_e         938602 non-null  float64\n",
            " 33  sigma_a         938602 non-null  float64\n",
            " 34  sigma_q         938602 non-null  float64\n",
            " 35  sigma_i         938602 non-null  float64\n",
            " 36  sigma_om        938602 non-null  float64\n",
            " 37  sigma_w         938602 non-null  float64\n",
            " 38  sigma_ma        938602 non-null  float64\n",
            " 39  sigma_ad        938598 non-null  float64\n",
            " 40  sigma_n         938602 non-null  float64\n",
            " 41  sigma_tp        938602 non-null  float64\n",
            " 42  sigma_per       938598 non-null  float64\n",
            " 43  class           958524 non-null  object \n",
            " 44  rms             958522 non-null  float64\n",
            "dtypes: float64(33), int64(2), object(10)\n",
            "memory usage: 329.1+ MB\n"
          ]
        }
      ],
      "source": [
        "df.info()"
      ]
    },
    {
      "cell_type": "code",
      "execution_count": null,
      "id": "3602b1d8",
      "metadata": {
        "id": "3602b1d8",
        "outputId": "2c63fd15-eb5c-45c4-9b68-bf040801a77a"
      },
      "outputs": [
        {
          "data": {
            "text/plain": [
              "(958524, 45)"
            ]
          },
          "execution_count": 4,
          "metadata": {},
          "output_type": "execute_result"
        }
      ],
      "source": [
        "df.shape"
      ]
    },
    {
      "cell_type": "code",
      "execution_count": null,
      "id": "da734434",
      "metadata": {
        "id": "da734434",
        "outputId": "08e43800-74d9-483e-c905-b9f39cda1407"
      },
      "outputs": [
        {
          "data": {
            "text/plain": [
              "id                     0\n",
              "spkid                  0\n",
              "full_name              0\n",
              "pdes                   0\n",
              "name              936460\n",
              "prefix            958506\n",
              "neo                    4\n",
              "pha                19921\n",
              "H                   6263\n",
              "diameter          822315\n",
              "albedo            823421\n",
              "diameter_sigma    822443\n",
              "orbit_id               0\n",
              "epoch                  0\n",
              "epoch_mjd              0\n",
              "epoch_cal              0\n",
              "equinox                0\n",
              "e                      0\n",
              "a                      0\n",
              "q                      0\n",
              "i                      0\n",
              "om                     0\n",
              "w                      0\n",
              "ma                     1\n",
              "ad                     4\n",
              "n                      0\n",
              "tp                     0\n",
              "tp_cal                 0\n",
              "per                    4\n",
              "per_y                  1\n",
              "moid               19921\n",
              "moid_ld              127\n",
              "sigma_e            19922\n",
              "sigma_a            19922\n",
              "sigma_q            19922\n",
              "sigma_i            19922\n",
              "sigma_om           19922\n",
              "sigma_w            19922\n",
              "sigma_ma           19922\n",
              "sigma_ad           19926\n",
              "sigma_n            19922\n",
              "sigma_tp           19922\n",
              "sigma_per          19926\n",
              "class                  0\n",
              "rms                    2\n",
              "dtype: int64"
            ]
          },
          "execution_count": 5,
          "metadata": {},
          "output_type": "execute_result"
        }
      ],
      "source": [
        "df.isnull().sum()"
      ]
    },
    {
      "cell_type": "code",
      "execution_count": null,
      "id": "86272902",
      "metadata": {
        "id": "86272902",
        "outputId": "be085e2a-d2eb-4f11-f0d9-e18c0c506336"
      },
      "outputs": [
        {
          "data": {
            "text/plain": [
              "id                 0.000000\n",
              "spkid              0.000000\n",
              "full_name          0.000000\n",
              "pdes               0.000000\n",
              "name              97.698128\n",
              "prefix            99.998122\n",
              "neo                0.000417\n",
              "pha                2.078300\n",
              "H                  0.653400\n",
              "diameter          85.789714\n",
              "albedo            85.905100\n",
              "diameter_sigma    85.803068\n",
              "orbit_id           0.000000\n",
              "epoch              0.000000\n",
              "epoch_mjd          0.000000\n",
              "epoch_cal          0.000000\n",
              "equinox            0.000000\n",
              "e                  0.000000\n",
              "a                  0.000000\n",
              "q                  0.000000\n",
              "i                  0.000000\n",
              "om                 0.000000\n",
              "w                  0.000000\n",
              "ma                 0.000104\n",
              "ad                 0.000417\n",
              "n                  0.000000\n",
              "tp                 0.000000\n",
              "tp_cal             0.000000\n",
              "per                0.000417\n",
              "per_y              0.000104\n",
              "moid               2.078300\n",
              "moid_ld            0.013250\n",
              "sigma_e            2.078404\n",
              "sigma_a            2.078404\n",
              "sigma_q            2.078404\n",
              "sigma_i            2.078404\n",
              "sigma_om           2.078404\n",
              "sigma_w            2.078404\n",
              "sigma_ma           2.078404\n",
              "sigma_ad           2.078821\n",
              "sigma_n            2.078404\n",
              "sigma_tp           2.078404\n",
              "sigma_per          2.078821\n",
              "class              0.000000\n",
              "rms                0.000209\n",
              "dtype: float64"
            ]
          },
          "execution_count": 6,
          "metadata": {},
          "output_type": "execute_result"
        }
      ],
      "source": [
        "df.isnull().sum() / len(df) * 100"
      ]
    },
    {
      "cell_type": "code",
      "execution_count": null,
      "id": "31a3e99e",
      "metadata": {
        "id": "31a3e99e"
      },
      "outputs": [],
      "source": [
        "#dropping name and prefix columns since they have maximum values as null\n",
        "df = df.drop(['name', 'prefix'], axis=1)"
      ]
    },
    {
      "cell_type": "code",
      "execution_count": null,
      "id": "fdd3d869",
      "metadata": {
        "id": "fdd3d869",
        "outputId": "2fd793a9-c0a4-49eb-a390-d0b76969d738"
      },
      "outputs": [
        {
          "data": {
            "text/html": [
              "<div>\n",
              "<style scoped>\n",
              "    .dataframe tbody tr th:only-of-type {\n",
              "        vertical-align: middle;\n",
              "    }\n",
              "\n",
              "    .dataframe tbody tr th {\n",
              "        vertical-align: top;\n",
              "    }\n",
              "\n",
              "    .dataframe thead th {\n",
              "        text-align: right;\n",
              "    }\n",
              "</style>\n",
              "<table border=\"1\" class=\"dataframe\">\n",
              "  <thead>\n",
              "    <tr style=\"text-align: right;\">\n",
              "      <th></th>\n",
              "      <th>id</th>\n",
              "      <th>spkid</th>\n",
              "      <th>full_name</th>\n",
              "      <th>pdes</th>\n",
              "      <th>neo</th>\n",
              "      <th>pha</th>\n",
              "      <th>H</th>\n",
              "      <th>diameter</th>\n",
              "      <th>albedo</th>\n",
              "      <th>diameter_sigma</th>\n",
              "      <th>...</th>\n",
              "      <th>sigma_i</th>\n",
              "      <th>sigma_om</th>\n",
              "      <th>sigma_w</th>\n",
              "      <th>sigma_ma</th>\n",
              "      <th>sigma_ad</th>\n",
              "      <th>sigma_n</th>\n",
              "      <th>sigma_tp</th>\n",
              "      <th>sigma_per</th>\n",
              "      <th>class</th>\n",
              "      <th>rms</th>\n",
              "    </tr>\n",
              "  </thead>\n",
              "  <tbody>\n",
              "    <tr>\n",
              "      <th>0</th>\n",
              "      <td>a0000001</td>\n",
              "      <td>2000001</td>\n",
              "      <td>1 Ceres</td>\n",
              "      <td>1</td>\n",
              "      <td>N</td>\n",
              "      <td>N</td>\n",
              "      <td>3.4</td>\n",
              "      <td>939.4</td>\n",
              "      <td>0.09</td>\n",
              "      <td>0.2</td>\n",
              "      <td>...</td>\n",
              "      <td>4.608900e-09</td>\n",
              "      <td>6.168800e-08</td>\n",
              "      <td>6.624800e-08</td>\n",
              "      <td>7.820700e-09</td>\n",
              "      <td>1.111300e-11</td>\n",
              "      <td>1.196500e-12</td>\n",
              "      <td>3.782900e-08</td>\n",
              "      <td>9.415900e-09</td>\n",
              "      <td>MBA</td>\n",
              "      <td>0.43301</td>\n",
              "    </tr>\n",
              "  </tbody>\n",
              "</table>\n",
              "<p>1 rows × 43 columns</p>\n",
              "</div>"
            ],
            "text/plain": [
              "         id    spkid     full_name pdes neo pha    H  diameter  albedo  \\\n",
              "0  a0000001  2000001       1 Ceres    1   N   N  3.4     939.4    0.09   \n",
              "\n",
              "   diameter_sigma  ...       sigma_i      sigma_om       sigma_w  \\\n",
              "0             0.2  ...  4.608900e-09  6.168800e-08  6.624800e-08   \n",
              "\n",
              "       sigma_ma      sigma_ad       sigma_n      sigma_tp     sigma_per  \\\n",
              "0  7.820700e-09  1.111300e-11  1.196500e-12  3.782900e-08  9.415900e-09   \n",
              "\n",
              "   class      rms  \n",
              "0    MBA  0.43301  \n",
              "\n",
              "[1 rows x 43 columns]"
            ]
          },
          "execution_count": 8,
          "metadata": {},
          "output_type": "execute_result"
        }
      ],
      "source": [
        "df.head(1)"
      ]
    },
    {
      "cell_type": "code",
      "execution_count": null,
      "id": "15362615",
      "metadata": {
        "id": "15362615",
        "outputId": "3010234b-a57a-4ce2-c8b7-7808b66aa967"
      },
      "outputs": [
        {
          "data": {
            "text/plain": [
              "id                   0\n",
              "spkid                0\n",
              "full_name            0\n",
              "pdes                 0\n",
              "neo                  0\n",
              "pha                  0\n",
              "H                    0\n",
              "diameter          1845\n",
              "albedo            1866\n",
              "diameter_sigma    1877\n",
              "orbit_id             0\n",
              "epoch                0\n",
              "epoch_mjd            0\n",
              "epoch_cal            0\n",
              "equinox              0\n",
              "e                    0\n",
              "a                    0\n",
              "q                    0\n",
              "i                    0\n",
              "om                   0\n",
              "w                    0\n",
              "ma                   0\n",
              "ad                   0\n",
              "n                    0\n",
              "tp                   0\n",
              "tp_cal               0\n",
              "per                  0\n",
              "per_y                0\n",
              "moid                 0\n",
              "moid_ld              0\n",
              "sigma_e              0\n",
              "sigma_a              0\n",
              "sigma_q              0\n",
              "sigma_i              0\n",
              "sigma_om             0\n",
              "sigma_w              0\n",
              "sigma_ma             0\n",
              "sigma_ad             0\n",
              "sigma_n              0\n",
              "sigma_tp             0\n",
              "sigma_per            0\n",
              "class                0\n",
              "rms                  0\n",
              "dtype: int64"
            ]
          },
          "execution_count": 9,
          "metadata": {},
          "output_type": "execute_result"
        }
      ],
      "source": [
        "df[df['pha'] == 'Y'].isnull().sum()"
      ]
    },
    {
      "cell_type": "code",
      "execution_count": null,
      "id": "1d841de6",
      "metadata": {
        "id": "1d841de6"
      },
      "outputs": [],
      "source": [
        "df = df.dropna()"
      ]
    },
    {
      "cell_type": "code",
      "execution_count": null,
      "id": "3e60e9c7",
      "metadata": {
        "id": "3e60e9c7",
        "outputId": "c32f5a02-cfaf-457c-c3c3-e2d7162f19ae"
      },
      "outputs": [
        {
          "data": {
            "text/html": [
              "<div>\n",
              "<style scoped>\n",
              "    .dataframe tbody tr th:only-of-type {\n",
              "        vertical-align: middle;\n",
              "    }\n",
              "\n",
              "    .dataframe tbody tr th {\n",
              "        vertical-align: top;\n",
              "    }\n",
              "\n",
              "    .dataframe thead th {\n",
              "        text-align: right;\n",
              "    }\n",
              "</style>\n",
              "<table border=\"1\" class=\"dataframe\">\n",
              "  <thead>\n",
              "    <tr style=\"text-align: right;\">\n",
              "      <th></th>\n",
              "      <th>id</th>\n",
              "      <th>spkid</th>\n",
              "      <th>full_name</th>\n",
              "      <th>pdes</th>\n",
              "      <th>neo</th>\n",
              "      <th>pha</th>\n",
              "      <th>H</th>\n",
              "      <th>diameter</th>\n",
              "      <th>albedo</th>\n",
              "      <th>diameter_sigma</th>\n",
              "      <th>...</th>\n",
              "      <th>sigma_i</th>\n",
              "      <th>sigma_om</th>\n",
              "      <th>sigma_w</th>\n",
              "      <th>sigma_ma</th>\n",
              "      <th>sigma_ad</th>\n",
              "      <th>sigma_n</th>\n",
              "      <th>sigma_tp</th>\n",
              "      <th>sigma_per</th>\n",
              "      <th>class</th>\n",
              "      <th>rms</th>\n",
              "    </tr>\n",
              "  </thead>\n",
              "  <tbody>\n",
              "    <tr>\n",
              "      <th>0</th>\n",
              "      <td>a0000001</td>\n",
              "      <td>2000001</td>\n",
              "      <td>1 Ceres</td>\n",
              "      <td>1</td>\n",
              "      <td>N</td>\n",
              "      <td>N</td>\n",
              "      <td>3.40</td>\n",
              "      <td>939.400</td>\n",
              "      <td>0.0900</td>\n",
              "      <td>0.200</td>\n",
              "      <td>...</td>\n",
              "      <td>4.608900e-09</td>\n",
              "      <td>6.168800e-08</td>\n",
              "      <td>6.624800e-08</td>\n",
              "      <td>7.820700e-09</td>\n",
              "      <td>1.111300e-11</td>\n",
              "      <td>1.196500e-12</td>\n",
              "      <td>3.782900e-08</td>\n",
              "      <td>9.415900e-09</td>\n",
              "      <td>MBA</td>\n",
              "      <td>0.43301</td>\n",
              "    </tr>\n",
              "    <tr>\n",
              "      <th>1</th>\n",
              "      <td>a0000002</td>\n",
              "      <td>2000002</td>\n",
              "      <td>2 Pallas</td>\n",
              "      <td>2</td>\n",
              "      <td>N</td>\n",
              "      <td>N</td>\n",
              "      <td>4.20</td>\n",
              "      <td>545.000</td>\n",
              "      <td>0.1010</td>\n",
              "      <td>18.000</td>\n",
              "      <td>...</td>\n",
              "      <td>3.469400e-06</td>\n",
              "      <td>6.272400e-06</td>\n",
              "      <td>9.128200e-06</td>\n",
              "      <td>8.859100e-06</td>\n",
              "      <td>4.961300e-09</td>\n",
              "      <td>4.653600e-10</td>\n",
              "      <td>4.078700e-05</td>\n",
              "      <td>3.680700e-06</td>\n",
              "      <td>MBA</td>\n",
              "      <td>0.35936</td>\n",
              "    </tr>\n",
              "    <tr>\n",
              "      <th>2</th>\n",
              "      <td>a0000003</td>\n",
              "      <td>2000003</td>\n",
              "      <td>3 Juno</td>\n",
              "      <td>3</td>\n",
              "      <td>N</td>\n",
              "      <td>N</td>\n",
              "      <td>5.33</td>\n",
              "      <td>246.596</td>\n",
              "      <td>0.2140</td>\n",
              "      <td>10.594</td>\n",
              "      <td>...</td>\n",
              "      <td>3.223100e-06</td>\n",
              "      <td>1.664600e-05</td>\n",
              "      <td>1.772100e-05</td>\n",
              "      <td>8.110400e-06</td>\n",
              "      <td>4.363900e-09</td>\n",
              "      <td>4.413400e-10</td>\n",
              "      <td>3.528800e-05</td>\n",
              "      <td>3.107200e-06</td>\n",
              "      <td>MBA</td>\n",
              "      <td>0.33848</td>\n",
              "    </tr>\n",
              "    <tr>\n",
              "      <th>3</th>\n",
              "      <td>a0000004</td>\n",
              "      <td>2000004</td>\n",
              "      <td>4 Vesta</td>\n",
              "      <td>4</td>\n",
              "      <td>N</td>\n",
              "      <td>N</td>\n",
              "      <td>3.00</td>\n",
              "      <td>525.400</td>\n",
              "      <td>0.4228</td>\n",
              "      <td>0.200</td>\n",
              "      <td>...</td>\n",
              "      <td>2.170600e-07</td>\n",
              "      <td>3.880800e-07</td>\n",
              "      <td>1.789300e-07</td>\n",
              "      <td>1.206800e-06</td>\n",
              "      <td>1.648600e-09</td>\n",
              "      <td>2.612500e-10</td>\n",
              "      <td>4.103700e-06</td>\n",
              "      <td>1.274900e-06</td>\n",
              "      <td>MBA</td>\n",
              "      <td>0.39980</td>\n",
              "    </tr>\n",
              "    <tr>\n",
              "      <th>4</th>\n",
              "      <td>a0000005</td>\n",
              "      <td>2000005</td>\n",
              "      <td>5 Astraea</td>\n",
              "      <td>5</td>\n",
              "      <td>N</td>\n",
              "      <td>N</td>\n",
              "      <td>6.90</td>\n",
              "      <td>106.699</td>\n",
              "      <td>0.2740</td>\n",
              "      <td>3.140</td>\n",
              "      <td>...</td>\n",
              "      <td>2.740800e-06</td>\n",
              "      <td>2.894900e-05</td>\n",
              "      <td>2.984200e-05</td>\n",
              "      <td>8.303800e-06</td>\n",
              "      <td>4.729000e-09</td>\n",
              "      <td>5.522700e-10</td>\n",
              "      <td>3.474300e-05</td>\n",
              "      <td>3.490500e-06</td>\n",
              "      <td>MBA</td>\n",
              "      <td>0.52191</td>\n",
              "    </tr>\n",
              "    <tr>\n",
              "      <th>...</th>\n",
              "      <td>...</td>\n",
              "      <td>...</td>\n",
              "      <td>...</td>\n",
              "      <td>...</td>\n",
              "      <td>...</td>\n",
              "      <td>...</td>\n",
              "      <td>...</td>\n",
              "      <td>...</td>\n",
              "      <td>...</td>\n",
              "      <td>...</td>\n",
              "      <td>...</td>\n",
              "      <td>...</td>\n",
              "      <td>...</td>\n",
              "      <td>...</td>\n",
              "      <td>...</td>\n",
              "      <td>...</td>\n",
              "      <td>...</td>\n",
              "      <td>...</td>\n",
              "      <td>...</td>\n",
              "      <td>...</td>\n",
              "      <td>...</td>\n",
              "    </tr>\n",
              "    <tr>\n",
              "      <th>891599</th>\n",
              "      <td>bK16N07B</td>\n",
              "      <td>3755231</td>\n",
              "      <td>(2016 NB7)</td>\n",
              "      <td>2016 NB7</td>\n",
              "      <td>N</td>\n",
              "      <td>N</td>\n",
              "      <td>16.20</td>\n",
              "      <td>3.793</td>\n",
              "      <td>0.0210</td>\n",
              "      <td>1.375</td>\n",
              "      <td>...</td>\n",
              "      <td>2.602600e-05</td>\n",
              "      <td>1.897900e-05</td>\n",
              "      <td>4.951000e-05</td>\n",
              "      <td>5.127900e-05</td>\n",
              "      <td>2.635700e-07</td>\n",
              "      <td>1.878300e-08</td>\n",
              "      <td>3.498100e-04</td>\n",
              "      <td>2.217200e-04</td>\n",
              "      <td>MBA</td>\n",
              "      <td>0.59145</td>\n",
              "    </tr>\n",
              "    <tr>\n",
              "      <th>891841</th>\n",
              "      <td>bK16N24W</td>\n",
              "      <td>3755298</td>\n",
              "      <td>(2016 NW24)</td>\n",
              "      <td>2016 NW24</td>\n",
              "      <td>N</td>\n",
              "      <td>N</td>\n",
              "      <td>17.40</td>\n",
              "      <td>2.696</td>\n",
              "      <td>0.0610</td>\n",
              "      <td>0.701</td>\n",
              "      <td>...</td>\n",
              "      <td>1.788500e-05</td>\n",
              "      <td>1.538400e-04</td>\n",
              "      <td>3.026900e-03</td>\n",
              "      <td>3.326500e-03</td>\n",
              "      <td>1.472800e-06</td>\n",
              "      <td>1.949700e-07</td>\n",
              "      <td>1.413600e-02</td>\n",
              "      <td>1.198900e-03</td>\n",
              "      <td>MBA</td>\n",
              "      <td>0.42754</td>\n",
              "    </tr>\n",
              "    <tr>\n",
              "      <th>894103</th>\n",
              "      <td>bK16P66B</td>\n",
              "      <td>3757444</td>\n",
              "      <td>(2016 PB66)</td>\n",
              "      <td>2016 PB66</td>\n",
              "      <td>N</td>\n",
              "      <td>N</td>\n",
              "      <td>17.20</td>\n",
              "      <td>3.271</td>\n",
              "      <td>0.0720</td>\n",
              "      <td>1.074</td>\n",
              "      <td>...</td>\n",
              "      <td>6.736600e-05</td>\n",
              "      <td>1.160600e-04</td>\n",
              "      <td>1.493200e-03</td>\n",
              "      <td>5.880600e-04</td>\n",
              "      <td>2.269800e-06</td>\n",
              "      <td>1.603500e-07</td>\n",
              "      <td>2.675200e-03</td>\n",
              "      <td>1.686400e-03</td>\n",
              "      <td>MBA</td>\n",
              "      <td>0.53016</td>\n",
              "    </tr>\n",
              "    <tr>\n",
              "      <th>901055</th>\n",
              "      <td>bK16TB9F</td>\n",
              "      <td>54000016</td>\n",
              "      <td>(2016 TF119)</td>\n",
              "      <td>2016 TF119</td>\n",
              "      <td>N</td>\n",
              "      <td>N</td>\n",
              "      <td>16.00</td>\n",
              "      <td>3.009</td>\n",
              "      <td>0.0780</td>\n",
              "      <td>0.981</td>\n",
              "      <td>...</td>\n",
              "      <td>3.376000e-05</td>\n",
              "      <td>2.546000e-05</td>\n",
              "      <td>3.313800e-04</td>\n",
              "      <td>8.637800e-05</td>\n",
              "      <td>9.530100e-07</td>\n",
              "      <td>6.243600e-08</td>\n",
              "      <td>3.265500e-04</td>\n",
              "      <td>7.520900e-04</td>\n",
              "      <td>MBA</td>\n",
              "      <td>0.57294</td>\n",
              "    </tr>\n",
              "    <tr>\n",
              "      <th>909489</th>\n",
              "      <td>bK17B98V</td>\n",
              "      <td>3768324</td>\n",
              "      <td>(2017 BV98)</td>\n",
              "      <td>2017 BV98</td>\n",
              "      <td>N</td>\n",
              "      <td>N</td>\n",
              "      <td>18.30</td>\n",
              "      <td>1.600</td>\n",
              "      <td>0.0230</td>\n",
              "      <td>0.283</td>\n",
              "      <td>...</td>\n",
              "      <td>1.178200e-05</td>\n",
              "      <td>1.384400e-04</td>\n",
              "      <td>1.581900e-04</td>\n",
              "      <td>1.040200e-04</td>\n",
              "      <td>8.802300e-08</td>\n",
              "      <td>1.290800e-08</td>\n",
              "      <td>4.108800e-04</td>\n",
              "      <td>6.763900e-05</td>\n",
              "      <td>MBA</td>\n",
              "      <td>0.75791</td>\n",
              "    </tr>\n",
              "  </tbody>\n",
              "</table>\n",
              "<p>131142 rows × 43 columns</p>\n",
              "</div>"
            ],
            "text/plain": [
              "              id     spkid            full_name        pdes neo pha      H  \\\n",
              "0       a0000001   2000001              1 Ceres           1   N   N   3.40   \n",
              "1       a0000002   2000002             2 Pallas           2   N   N   4.20   \n",
              "2       a0000003   2000003               3 Juno           3   N   N   5.33   \n",
              "3       a0000004   2000004              4 Vesta           4   N   N   3.00   \n",
              "4       a0000005   2000005            5 Astraea           5   N   N   6.90   \n",
              "...          ...       ...                  ...         ...  ..  ..    ...   \n",
              "891599  bK16N07B   3755231           (2016 NB7)    2016 NB7   N   N  16.20   \n",
              "891841  bK16N24W   3755298          (2016 NW24)   2016 NW24   N   N  17.40   \n",
              "894103  bK16P66B   3757444          (2016 PB66)   2016 PB66   N   N  17.20   \n",
              "901055  bK16TB9F  54000016         (2016 TF119)  2016 TF119   N   N  16.00   \n",
              "909489  bK17B98V   3768324          (2017 BV98)   2017 BV98   N   N  18.30   \n",
              "\n",
              "        diameter  albedo  diameter_sigma  ...       sigma_i      sigma_om  \\\n",
              "0        939.400  0.0900           0.200  ...  4.608900e-09  6.168800e-08   \n",
              "1        545.000  0.1010          18.000  ...  3.469400e-06  6.272400e-06   \n",
              "2        246.596  0.2140          10.594  ...  3.223100e-06  1.664600e-05   \n",
              "3        525.400  0.4228           0.200  ...  2.170600e-07  3.880800e-07   \n",
              "4        106.699  0.2740           3.140  ...  2.740800e-06  2.894900e-05   \n",
              "...          ...     ...             ...  ...           ...           ...   \n",
              "891599     3.793  0.0210           1.375  ...  2.602600e-05  1.897900e-05   \n",
              "891841     2.696  0.0610           0.701  ...  1.788500e-05  1.538400e-04   \n",
              "894103     3.271  0.0720           1.074  ...  6.736600e-05  1.160600e-04   \n",
              "901055     3.009  0.0780           0.981  ...  3.376000e-05  2.546000e-05   \n",
              "909489     1.600  0.0230           0.283  ...  1.178200e-05  1.384400e-04   \n",
              "\n",
              "             sigma_w      sigma_ma      sigma_ad       sigma_n      sigma_tp  \\\n",
              "0       6.624800e-08  7.820700e-09  1.111300e-11  1.196500e-12  3.782900e-08   \n",
              "1       9.128200e-06  8.859100e-06  4.961300e-09  4.653600e-10  4.078700e-05   \n",
              "2       1.772100e-05  8.110400e-06  4.363900e-09  4.413400e-10  3.528800e-05   \n",
              "3       1.789300e-07  1.206800e-06  1.648600e-09  2.612500e-10  4.103700e-06   \n",
              "4       2.984200e-05  8.303800e-06  4.729000e-09  5.522700e-10  3.474300e-05   \n",
              "...              ...           ...           ...           ...           ...   \n",
              "891599  4.951000e-05  5.127900e-05  2.635700e-07  1.878300e-08  3.498100e-04   \n",
              "891841  3.026900e-03  3.326500e-03  1.472800e-06  1.949700e-07  1.413600e-02   \n",
              "894103  1.493200e-03  5.880600e-04  2.269800e-06  1.603500e-07  2.675200e-03   \n",
              "901055  3.313800e-04  8.637800e-05  9.530100e-07  6.243600e-08  3.265500e-04   \n",
              "909489  1.581900e-04  1.040200e-04  8.802300e-08  1.290800e-08  4.108800e-04   \n",
              "\n",
              "           sigma_per  class      rms  \n",
              "0       9.415900e-09    MBA  0.43301  \n",
              "1       3.680700e-06    MBA  0.35936  \n",
              "2       3.107200e-06    MBA  0.33848  \n",
              "3       1.274900e-06    MBA  0.39980  \n",
              "4       3.490500e-06    MBA  0.52191  \n",
              "...              ...    ...      ...  \n",
              "891599  2.217200e-04    MBA  0.59145  \n",
              "891841  1.198900e-03    MBA  0.42754  \n",
              "894103  1.686400e-03    MBA  0.53016  \n",
              "901055  7.520900e-04    MBA  0.57294  \n",
              "909489  6.763900e-05    MBA  0.75791  \n",
              "\n",
              "[131142 rows x 43 columns]"
            ]
          },
          "execution_count": 11,
          "metadata": {},
          "output_type": "execute_result"
        }
      ],
      "source": [
        "df"
      ]
    },
    {
      "cell_type": "code",
      "execution_count": null,
      "id": "0b205340",
      "metadata": {
        "id": "0b205340",
        "outputId": "fe8e2316-3a56-48a1-aa5c-76673fca1c25"
      },
      "outputs": [
        {
          "data": {
            "image/png": "[encoded data removed]",
            "text/plain": [
              "<Figure size 1440x720 with 1 Axes>"
            ]
          },
          "metadata": {
            "needs_background": "light"
          },
          "output_type": "display_data"
        }
      ],
      "source": [
        "plt.figure(figsize=(20,10))\n",
        "plt.title('Count of Potentially Hazardous Asteroid (PHA) flag')\n",
        "sns.countplot(data=df, x='pha');"
      ]
    },
    {
      "cell_type": "code",
      "execution_count": null,
      "id": "90a7b1ad",
      "metadata": {
        "id": "90a7b1ad",
        "outputId": "7ef3e080-a606-4cb4-abe7-22e9fe8f9efc"
      },
      "outputs": [
        {
          "data": {
            "text/plain": [
              "130961"
            ]
          },
          "execution_count": 13,
          "metadata": {},
          "output_type": "execute_result"
        }
      ],
      "source": [
        "len(df[df['pha'] == 'N'])"
      ]
    },
    {
      "cell_type": "code",
      "execution_count": null,
      "id": "5be43dee",
      "metadata": {
        "id": "5be43dee",
        "outputId": "0fa48f4b-7ded-4a68-cfa0-b74c1f263036"
      },
      "outputs": [
        {
          "data": {
            "text/plain": [
              "181"
            ]
          },
          "execution_count": 14,
          "metadata": {},
          "output_type": "execute_result"
        }
      ],
      "source": [
        "len(df[df['pha'] == 'Y'])"
      ]
    },
    {
      "cell_type": "code",
      "execution_count": null,
      "id": "b6350467",
      "metadata": {
        "id": "b6350467",
        "outputId": "136b8d1c-12c6-4156-d925-19747f2c4638"
      },
      "outputs": [
        {
          "data": {
            "text/plain": [
              "0.13820908514748667"
            ]
          },
          "execution_count": 15,
          "metadata": {},
          "output_type": "execute_result"
        }
      ],
      "source": [
        "len(df[df['pha'] == 'Y'])/ len(df[df['pha'] == 'N']) * 100"
      ]
    },
    {
      "cell_type": "code",
      "execution_count": null,
      "id": "cfbff7d9",
      "metadata": {
        "id": "cfbff7d9",
        "outputId": "a060d77a-290a-44f1-f629-c0737422ffe4"
      },
      "outputs": [
        {
          "data": {
            "text/plain": [
              "array(['J2000'], dtype=object)"
            ]
          },
          "execution_count": 16,
          "metadata": {},
          "output_type": "execute_result"
        }
      ],
      "source": [
        "df['equinox'].unique()"
      ]
    },
    {
      "cell_type": "code",
      "execution_count": null,
      "id": "465743bf",
      "metadata": {
        "id": "465743bf"
      },
      "outputs": [],
      "source": [
        "#we dropped all of these parameters because they are irrelevant or redundant\n",
        "df = df.drop(['spkid', 'equinox','orbit_id','pdes'], axis=1)"
      ]
    },
    {
      "cell_type": "code",
      "execution_count": null,
      "id": "433baa9d",
      "metadata": {
        "id": "433baa9d",
        "outputId": "a0a48339-5537-469e-ac7f-6858b661f64c"
      },
      "outputs": [
        {
          "data": {
            "text/html": [
              "<div>\n",
              "<style scoped>\n",
              "    .dataframe tbody tr th:only-of-type {\n",
              "        vertical-align: middle;\n",
              "    }\n",
              "\n",
              "    .dataframe tbody tr th {\n",
              "        vertical-align: top;\n",
              "    }\n",
              "\n",
              "    .dataframe thead th {\n",
              "        text-align: right;\n",
              "    }\n",
              "</style>\n",
              "<table border=\"1\" class=\"dataframe\">\n",
              "  <thead>\n",
              "    <tr style=\"text-align: right;\">\n",
              "      <th></th>\n",
              "      <th>id</th>\n",
              "      <th>full_name</th>\n",
              "      <th>neo</th>\n",
              "      <th>pha</th>\n",
              "      <th>H</th>\n",
              "      <th>diameter</th>\n",
              "      <th>albedo</th>\n",
              "      <th>diameter_sigma</th>\n",
              "      <th>epoch</th>\n",
              "      <th>epoch_mjd</th>\n",
              "      <th>...</th>\n",
              "      <th>sigma_i</th>\n",
              "      <th>sigma_om</th>\n",
              "      <th>sigma_w</th>\n",
              "      <th>sigma_ma</th>\n",
              "      <th>sigma_ad</th>\n",
              "      <th>sigma_n</th>\n",
              "      <th>sigma_tp</th>\n",
              "      <th>sigma_per</th>\n",
              "      <th>class</th>\n",
              "      <th>rms</th>\n",
              "    </tr>\n",
              "  </thead>\n",
              "  <tbody>\n",
              "    <tr>\n",
              "      <th>0</th>\n",
              "      <td>a0000001</td>\n",
              "      <td>1 Ceres</td>\n",
              "      <td>N</td>\n",
              "      <td>N</td>\n",
              "      <td>3.4</td>\n",
              "      <td>939.4</td>\n",
              "      <td>0.09</td>\n",
              "      <td>0.2</td>\n",
              "      <td>2458600.5</td>\n",
              "      <td>58600</td>\n",
              "      <td>...</td>\n",
              "      <td>4.608900e-09</td>\n",
              "      <td>6.168800e-08</td>\n",
              "      <td>6.624800e-08</td>\n",
              "      <td>7.820700e-09</td>\n",
              "      <td>1.111300e-11</td>\n",
              "      <td>1.196500e-12</td>\n",
              "      <td>3.782900e-08</td>\n",
              "      <td>9.415900e-09</td>\n",
              "      <td>MBA</td>\n",
              "      <td>0.43301</td>\n",
              "    </tr>\n",
              "  </tbody>\n",
              "</table>\n",
              "<p>1 rows × 39 columns</p>\n",
              "</div>"
            ],
            "text/plain": [
              "         id     full_name neo pha    H  diameter  albedo  diameter_sigma  \\\n",
              "0  a0000001       1 Ceres   N   N  3.4     939.4    0.09             0.2   \n",
              "\n",
              "       epoch  epoch_mjd  ...       sigma_i      sigma_om       sigma_w  \\\n",
              "0  2458600.5      58600  ...  4.608900e-09  6.168800e-08  6.624800e-08   \n",
              "\n",
              "       sigma_ma      sigma_ad       sigma_n      sigma_tp     sigma_per  \\\n",
              "0  7.820700e-09  1.111300e-11  1.196500e-12  3.782900e-08  9.415900e-09   \n",
              "\n",
              "   class      rms  \n",
              "0    MBA  0.43301  \n",
              "\n",
              "[1 rows x 39 columns]"
            ]
          },
          "execution_count": 18,
          "metadata": {},
          "output_type": "execute_result"
        }
      ],
      "source": [
        "df.head(1)"
      ]
    },
    {
      "cell_type": "code",
      "execution_count": null,
      "id": "c6c701b8",
      "metadata": {
        "id": "c6c701b8",
        "outputId": "ecc11106-857f-4f4f-cb1a-cbb0625c687f"
      },
      "outputs": [
        {
          "name": "stdout",
          "output_type": "stream",
          "text": [
            "<class 'pandas.core.frame.DataFrame'>\n",
            "Int64Index: 131142 entries, 0 to 909489\n",
            "Data columns (total 39 columns):\n",
            " #   Column          Non-Null Count   Dtype  \n",
            "---  ------          --------------   -----  \n",
            " 0   id              131142 non-null  object \n",
            " 1   full_name       131142 non-null  object \n",
            " 2   neo             131142 non-null  object \n",
            " 3   pha             131142 non-null  object \n",
            " 4   H               131142 non-null  float64\n",
            " 5   diameter        131142 non-null  float64\n",
            " 6   albedo          131142 non-null  float64\n",
            " 7   diameter_sigma  131142 non-null  float64\n",
            " 8   epoch           131142 non-null  float64\n",
            " 9   epoch_mjd       131142 non-null  int64  \n",
            " 10  epoch_cal       131142 non-null  float64\n",
            " 11  e               131142 non-null  float64\n",
            " 12  a               131142 non-null  float64\n",
            " 13  q               131142 non-null  float64\n",
            " 14  i               131142 non-null  float64\n",
            " 15  om              131142 non-null  float64\n",
            " 16  w               131142 non-null  float64\n",
            " 17  ma              131142 non-null  float64\n",
            " 18  ad              131142 non-null  float64\n",
            " 19  n               131142 non-null  float64\n",
            " 20  tp              131142 non-null  float64\n",
            " 21  tp_cal          131142 non-null  float64\n",
            " 22  per             131142 non-null  float64\n",
            " 23  per_y           131142 non-null  float64\n",
            " 24  moid            131142 non-null  float64\n",
            " 25  moid_ld         131142 non-null  float64\n",
            " 26  sigma_e         131142 non-null  float64\n",
            " 27  sigma_a         131142 non-null  float64\n",
            " 28  sigma_q         131142 non-null  float64\n",
            " 29  sigma_i         131142 non-null  float64\n",
            " 30  sigma_om        131142 non-null  float64\n",
            " 31  sigma_w         131142 non-null  float64\n",
            " 32  sigma_ma        131142 non-null  float64\n",
            " 33  sigma_ad        131142 non-null  float64\n",
            " 34  sigma_n         131142 non-null  float64\n",
            " 35  sigma_tp        131142 non-null  float64\n",
            " 36  sigma_per       131142 non-null  float64\n",
            " 37  class           131142 non-null  object \n",
            " 38  rms             131142 non-null  float64\n",
            "dtypes: float64(33), int64(1), object(5)\n",
            "memory usage: 44.1+ MB\n"
          ]
        }
      ],
      "source": [
        "df.info()"
      ]
    },
    {
      "cell_type": "code",
      "execution_count": null,
      "id": "3032f12f",
      "metadata": {
        "id": "3032f12f",
        "outputId": "1d7a23a1-2f97-40ec-e245-9c0de277f8a8"
      },
      "outputs": [
        {
          "data": {
            "text/plain": [
              "array(['MBA', 'OMB', 'MCA', 'AMO', 'IMB', 'TJN', 'APO', 'ATE', 'CEN',\n",
              "       'AST', 'TNO'], dtype=object)"
            ]
          },
          "execution_count": 20,
          "metadata": {},
          "output_type": "execute_result"
        }
      ],
      "source": [
        "df['class'].unique()"
      ]
    },
    {
      "cell_type": "code",
      "execution_count": null,
      "id": "bb800b3a",
      "metadata": {
        "id": "bb800b3a"
      },
      "outputs": [],
      "source": [
        "df['pha'] = df['pha'].map({'Y': 1, 'N': 0})"
      ]
    },
    {
      "cell_type": "code",
      "execution_count": null,
      "id": "7abe7cef",
      "metadata": {
        "id": "7abe7cef",
        "outputId": "76e3d855-86fe-4d1e-fdfd-6745874f4bf1"
      },
      "outputs": [
        {
          "data": {
            "text/plain": [
              "<AxesSubplot:>"
            ]
          },
          "execution_count": 22,
          "metadata": {},
          "output_type": "execute_result"
        },
        {
          "data": {
            "image/png": "[encoded data removed]",
            "text/plain": [
              "<Figure size 1440x1440 with 2 Axes>"
            ]
          },
          "metadata": {
            "needs_background": "light"
          },
          "output_type": "display_data"
        }
      ],
      "source": [
        "plt.figure(figsize=(20,20))\n",
        "sns.heatmap(data=round(df.corr(),2), annot=True)"
      ]
    },
    {
      "cell_type": "markdown",
      "id": "59e371f8",
      "metadata": {
        "id": "59e371f8"
      },
      "source": [
        "## ANOVA"
      ]
    },
    {
      "cell_type": "code",
      "execution_count": null,
      "id": "fedd44a3",
      "metadata": {
        "id": "fedd44a3"
      },
      "outputs": [],
      "source": [
        "from sklearn.feature_selection import f_classif"
      ]
    },
    {
      "cell_type": "code",
      "execution_count": null,
      "id": "854ed7bb",
      "metadata": {
        "id": "854ed7bb"
      },
      "outputs": [],
      "source": [
        "X = df.drop(['pha','id','full_name','neo','class'], axis=1)\n",
        "y = df['pha']"
      ]
    },
    {
      "cell_type": "code",
      "execution_count": null,
      "id": "693fdd49",
      "metadata": {
        "id": "693fdd49"
      },
      "outputs": [],
      "source": [
        "feature_names = list(X)"
      ]
    },
    {
      "cell_type": "code",
      "execution_count": null,
      "id": "468d65e9",
      "metadata": {
        "id": "468d65e9",
        "outputId": "7b6da257-02e1-481a-f843-ce50f05d9cd6"
      },
      "outputs": [
        {
          "data": {
            "text/plain": [
              "H                 float64\n",
              "diameter          float64\n",
              "albedo            float64\n",
              "diameter_sigma    float64\n",
              "epoch             float64\n",
              "epoch_mjd           int64\n",
              "epoch_cal         float64\n",
              "e                 float64\n",
              "a                 float64\n",
              "q                 float64\n",
              "i                 float64\n",
              "om                float64\n",
              "w                 float64\n",
              "ma                float64\n",
              "ad                float64\n",
              "n                 float64\n",
              "tp                float64\n",
              "tp_cal            float64\n",
              "per               float64\n",
              "per_y             float64\n",
              "moid              float64\n",
              "moid_ld           float64\n",
              "sigma_e           float64\n",
              "sigma_a           float64\n",
              "sigma_q           float64\n",
              "sigma_i           float64\n",
              "sigma_om          float64\n",
              "sigma_w           float64\n",
              "sigma_ma          float64\n",
              "sigma_ad          float64\n",
              "sigma_n           float64\n",
              "sigma_tp          float64\n",
              "sigma_per         float64\n",
              "rms               float64\n",
              "dtype: object"
            ]
          },
          "execution_count": 26,
          "metadata": {},
          "output_type": "execute_result"
        }
      ],
      "source": [
        "X.dtypes"
      ]
    },
    {
      "cell_type": "code",
      "execution_count": null,
      "id": "915e6343",
      "metadata": {
        "id": "915e6343"
      },
      "outputs": [],
      "source": [
        "x_data = X.values\n",
        "y_data = y.values"
      ]
    },
    {
      "cell_type": "code",
      "execution_count": null,
      "id": "4863b1b7",
      "metadata": {
        "id": "4863b1b7",
        "outputId": "902faeb9-ad28-4f76-94f6-bb946939d1fc"
      },
      "outputs": [
        {
          "data": {
            "text/plain": [
              "array([0, 0, 0, ..., 0, 0, 0], dtype=int64)"
            ]
          },
          "execution_count": 28,
          "metadata": {},
          "output_type": "execute_result"
        }
      ],
      "source": [
        "y_data"
      ]
    },
    {
      "cell_type": "code",
      "execution_count": null,
      "id": "94f8d200",
      "metadata": {
        "id": "94f8d200",
        "outputId": "c6fd171e-2129-4c8f-c671-522ad2743a63"
      },
      "outputs": [
        {
          "data": {
            "text/plain": [
              "array([[3.40000e+00, 9.39400e+02, 9.00000e-02, ..., 3.78290e-08,\n",
              "        9.41590e-09, 4.33010e-01],\n",
              "       [4.20000e+00, 5.45000e+02, 1.01000e-01, ..., 4.07870e-05,\n",
              "        3.68070e-06, 3.59360e-01],\n",
              "       [5.33000e+00, 2.46596e+02, 2.14000e-01, ..., 3.52880e-05,\n",
              "        3.10720e-06, 3.38480e-01],\n",
              "       ...,\n",
              "       [1.72000e+01, 3.27100e+00, 7.20000e-02, ..., 2.67520e-03,\n",
              "        1.68640e-03, 5.30160e-01],\n",
              "       [1.60000e+01, 3.00900e+00, 7.80000e-02, ..., 3.26550e-04,\n",
              "        7.52090e-04, 5.72940e-01],\n",
              "       [1.83000e+01, 1.60000e+00, 2.30000e-02, ..., 4.10880e-04,\n",
              "        6.76390e-05, 7.57910e-01]])"
            ]
          },
          "execution_count": 29,
          "metadata": {},
          "output_type": "execute_result"
        }
      ],
      "source": [
        "x_data"
      ]
    },
    {
      "cell_type": "code",
      "execution_count": null,
      "id": "b6866961",
      "metadata": {
        "id": "b6866961",
        "outputId": "52873ebb-af25-4ef3-9d81-668fbeec5638"
      },
      "outputs": [
        {
          "name": "stdout",
          "output_type": "stream",
          "text": [
            "Feature: \n",
            "('H', 1523.9316102423168)\n",
            "Feature: \n",
            "('diameter', 46.679813481595296)\n",
            "Feature: \n",
            "('albedo', 31.844641772423657)\n",
            "Feature: \n",
            "('diameter_sigma', 37.89413762791418)\n",
            "Feature: \n",
            "('epoch', 115.4114979520692)\n",
            "Feature: \n",
            "('epoch_mjd', 115.35471607901016)\n",
            "Feature: \n",
            "('epoch_cal', 117.77371688537629)\n",
            "Feature: \n",
            "('e', 3564.3300259803555)\n",
            "Feature: \n",
            "('a', 116.33853963738241)\n",
            "Feature: \n",
            "('q', 1865.694029170299)\n",
            "Feature: \n",
            "('i', 111.52840871941767)\n",
            "Feature: \n",
            "('om', 0.004209625493449224)\n",
            "Feature: \n",
            "('w', 0.6122520877962326)\n",
            "Feature: \n",
            "('ma', 0.24940397717651533)\n",
            "Feature: \n",
            "('ad', 13.311231598632153)\n",
            "Feature: \n",
            "('n', 11157.223669891873)\n",
            "Feature: \n",
            "('tp', 15.678244767001713)\n",
            "Feature: \n",
            "('tp_cal', 15.047314556270992)\n",
            "Feature: \n",
            "('per', 2.215745039871343)\n",
            "Feature: \n",
            "('per_y', 2.215745039870814)\n",
            "Feature: \n",
            "('moid', 1364.138556257898)\n",
            "Feature: \n",
            "('moid_ld', 1364.1385562576406)\n",
            "Feature: \n",
            "('sigma_e', 0.027095330795633126)\n",
            "Feature: \n",
            "('sigma_a', 0.034077152135135715)\n",
            "Feature: \n",
            "('sigma_q', 0.01943401140896837)\n",
            "Feature: \n",
            "('sigma_i', 0.037048342931719457)\n",
            "Feature: \n",
            "('sigma_om', 0.04695011976733762)\n",
            "Feature: \n",
            "('sigma_w', 0.018730475146336245)\n",
            "Feature: \n",
            "('sigma_ma', 0.01709071080476022)\n",
            "Feature: \n",
            "('sigma_ad', 0.03125413257270065)\n",
            "Feature: \n",
            "('sigma_n', 0.027269107238504682)\n",
            "Feature: \n",
            "('sigma_tp', 0.01816702665358489)\n",
            "Feature: \n",
            "('sigma_per', 0.034672694660942936)\n",
            "Feature: \n",
            "('rms', 379.4292169441557)\n",
            "(array([1.52393161e+03, 4.66798135e+01, 3.18446418e+01, 3.78941376e+01,\n",
            "       1.15411498e+02, 1.15354716e+02, 1.17773717e+02, 3.56433003e+03,\n",
            "       1.16338540e+02, 1.86569403e+03, 1.11528409e+02, 4.20962549e-03,\n",
            "       6.12252088e-01, 2.49403977e-01, 1.33112316e+01, 1.11572237e+04,\n",
            "       1.56782448e+01, 1.50473146e+01, 2.21574504e+00, 2.21574504e+00,\n",
            "       1.36413856e+03, 1.36413856e+03, 2.70953308e-02, 3.40771521e-02,\n",
            "       1.94340114e-02, 3.70483429e-02, 4.69501198e-02, 1.87304751e-02,\n",
            "       1.70907108e-02, 3.12541326e-02, 2.72691072e-02, 1.81670267e-02,\n",
            "       3.46726947e-02, 3.79429217e+02]), array([0.00000000e+000, 8.39482582e-012, 1.67352941e-008, 7.49047403e-010,\n",
            "       6.56226746e-027, 6.75271011e-027, 1.99635113e-027, 0.00000000e+000,\n",
            "       4.11358177e-027, 0.00000000e+000, 4.64330121e-026, 9.48268348e-001,\n",
            "       4.33942530e-001, 6.17495906e-001, 2.63923225e-004, 0.00000000e+000,\n",
            "       7.51224278e-005, 1.04900484e-004, 1.36611503e-001, 1.36611503e-001,\n",
            "       4.44192949e-297, 4.44192949e-297, 8.69253894e-001, 8.53543088e-001,\n",
            "       8.89129606e-001, 8.47366953e-001, 8.28458257e-001, 8.91142199e-001,\n",
            "       8.95987957e-001, 8.59674887e-001, 8.68839078e-001, 8.92781983e-001,\n",
            "       8.52283464e-001, 2.18182570e-084]))\n"
          ]
        }
      ],
      "source": [
        "f_value = f_classif(x_data,y_data)\n",
        "\n",
        "for feature in zip(feature_names,f_value[0]):\n",
        "    print(\"Feature: \")\n",
        "    print(feature)\n",
        "\n",
        "print(f_value)"
      ]
    },
    {
      "cell_type": "code",
      "execution_count": null,
      "id": "6c0ca5bd",
      "metadata": {
        "id": "6c0ca5bd",
        "outputId": "4de1f18d-f9c8-4865-f3fa-72f590e0d3ce"
      },
      "outputs": [
        {
          "data": {
            "image/png": "[encoded data removed]",
            "text/plain": [
              "<Figure size 1440x1440 with 1 Axes>"
            ]
          },
          "metadata": {
            "needs_background": "light"
          },
          "output_type": "display_data"
        }
      ],
      "source": [
        "plt.figure(figsize=(20,20))\n",
        "plt.bar(x=feature_names,height=f_value[0],color='tomato')\n",
        "plt.xticks(rotation='vertical')\n",
        "plt.ylabel('F-value')\n",
        "plt.title('F-value Comparison')\n",
        "plt.show()"
      ]
    },
    {
      "cell_type": "code",
      "execution_count": null,
      "id": "f8a2e5f8",
      "metadata": {
        "id": "f8a2e5f8",
        "outputId": "768a1243-c712-467f-9db1-f5f269e68094"
      },
      "outputs": [
        {
          "name": "stderr",
          "output_type": "stream",
          "text": [
            "C:\\Users\\Admin\\anaconda3\\lib\\site-packages\\scipy\\stats\\stats.py:4594: RuntimeWarning: overflow encountered in longlong_scalars\n",
            "  (2 * xtie * ytie) / m + x0 * y0 / (9 * m * (size - 2)))\n",
            "C:\\Users\\Admin\\anaconda3\\lib\\site-packages\\scipy\\stats\\stats.py:4596: RuntimeWarning: invalid value encountered in sqrt\n",
            "  np.sqrt(var) / np.sqrt(2)))\n"
          ]
        },
        {
          "data": {
            "text/html": [
              "<div>\n",
              "<style scoped>\n",
              "    .dataframe tbody tr th:only-of-type {\n",
              "        vertical-align: middle;\n",
              "    }\n",
              "\n",
              "    .dataframe tbody tr th {\n",
              "        vertical-align: top;\n",
              "    }\n",
              "\n",
              "    .dataframe thead th {\n",
              "        text-align: right;\n",
              "    }\n",
              "</style>\n",
              "<table border=\"1\" class=\"dataframe\">\n",
              "  <thead>\n",
              "    <tr style=\"text-align: right;\">\n",
              "      <th></th>\n",
              "      <th>pha</th>\n",
              "      <th>H</th>\n",
              "      <th>diameter</th>\n",
              "      <th>albedo</th>\n",
              "      <th>diameter_sigma</th>\n",
              "      <th>epoch</th>\n",
              "      <th>epoch_mjd</th>\n",
              "      <th>epoch_cal</th>\n",
              "      <th>e</th>\n",
              "      <th>a</th>\n",
              "      <th>...</th>\n",
              "      <th>sigma_q</th>\n",
              "      <th>sigma_i</th>\n",
              "      <th>sigma_om</th>\n",
              "      <th>sigma_w</th>\n",
              "      <th>sigma_ma</th>\n",
              "      <th>sigma_ad</th>\n",
              "      <th>sigma_n</th>\n",
              "      <th>sigma_tp</th>\n",
              "      <th>sigma_per</th>\n",
              "      <th>rms</th>\n",
              "    </tr>\n",
              "  </thead>\n",
              "  <tbody>\n",
              "    <tr>\n",
              "      <th>pha</th>\n",
              "      <td>1.000000</td>\n",
              "      <td>0.047659</td>\n",
              "      <td>-0.049473</td>\n",
              "      <td>0.011189</td>\n",
              "      <td>-0.039845</td>\n",
              "      <td>-0.027808</td>\n",
              "      <td>-0.027808</td>\n",
              "      <td>-0.027808</td>\n",
              "      <td>0.047120</td>\n",
              "      <td>-0.045384</td>\n",
              "      <td>...</td>\n",
              "      <td>-0.021452</td>\n",
              "      <td>0.016750</td>\n",
              "      <td>-0.013081</td>\n",
              "      <td>-0.016717</td>\n",
              "      <td>-0.012855</td>\n",
              "      <td>-0.021155</td>\n",
              "      <td>0.012246</td>\n",
              "      <td>-0.033666</td>\n",
              "      <td>-0.029708</td>\n",
              "      <td>-0.028652</td>\n",
              "    </tr>\n",
              "    <tr>\n",
              "      <th>H</th>\n",
              "      <td>0.047659</td>\n",
              "      <td>1.000000</td>\n",
              "      <td>-0.560739</td>\n",
              "      <td>-0.224991</td>\n",
              "      <td>0.110240</td>\n",
              "      <td>-0.044887</td>\n",
              "      <td>-0.044887</td>\n",
              "      <td>-0.044887</td>\n",
              "      <td>0.127417</td>\n",
              "      <td>-0.167332</td>\n",
              "      <td>...</td>\n",
              "      <td>0.241317</td>\n",
              "      <td>0.345311</td>\n",
              "      <td>0.240351</td>\n",
              "      <td>0.240747</td>\n",
              "      <td>0.161055</td>\n",
              "      <td>0.224874</td>\n",
              "      <td>0.441220</td>\n",
              "      <td>0.096022</td>\n",
              "      <td>0.185315</td>\n",
              "      <td>0.351746</td>\n",
              "    </tr>\n",
              "    <tr>\n",
              "      <th>diameter</th>\n",
              "      <td>-0.049473</td>\n",
              "      <td>-0.560739</td>\n",
              "      <td>1.000000</td>\n",
              "      <td>-0.197910</td>\n",
              "      <td>-0.063220</td>\n",
              "      <td>0.034888</td>\n",
              "      <td>0.034888</td>\n",
              "      <td>0.034888</td>\n",
              "      <td>-0.109160</td>\n",
              "      <td>0.395539</td>\n",
              "      <td>...</td>\n",
              "      <td>-0.000793</td>\n",
              "      <td>-0.120879</td>\n",
              "      <td>-0.191951</td>\n",
              "      <td>-0.141311</td>\n",
              "      <td>-0.045662</td>\n",
              "      <td>0.053934</td>\n",
              "      <td>-0.171099</td>\n",
              "      <td>0.060248</td>\n",
              "      <td>0.087797</td>\n",
              "      <td>-0.188449</td>\n",
              "    </tr>\n",
              "    <tr>\n",
              "      <th>albedo</th>\n",
              "      <td>0.011189</td>\n",
              "      <td>-0.224991</td>\n",
              "      <td>-0.197910</td>\n",
              "      <td>1.000000</td>\n",
              "      <td>-0.063707</td>\n",
              "      <td>0.015128</td>\n",
              "      <td>0.015128</td>\n",
              "      <td>0.015128</td>\n",
              "      <td>-0.022749</td>\n",
              "      <td>-0.277249</td>\n",
              "      <td>...</td>\n",
              "      <td>-0.313538</td>\n",
              "      <td>-0.278846</td>\n",
              "      <td>-0.081028</td>\n",
              "      <td>-0.139575</td>\n",
              "      <td>-0.148262</td>\n",
              "      <td>-0.368563</td>\n",
              "      <td>-0.314824</td>\n",
              "      <td>-0.206473</td>\n",
              "      <td>-0.363036</td>\n",
              "      <td>-0.190768</td>\n",
              "    </tr>\n",
              "    <tr>\n",
              "      <th>diameter_sigma</th>\n",
              "      <td>-0.039845</td>\n",
              "      <td>0.110240</td>\n",
              "      <td>-0.063220</td>\n",
              "      <td>-0.063707</td>\n",
              "      <td>1.000000</td>\n",
              "      <td>0.003675</td>\n",
              "      <td>0.003675</td>\n",
              "      <td>0.003675</td>\n",
              "      <td>-0.079491</td>\n",
              "      <td>0.143563</td>\n",
              "      <td>...</td>\n",
              "      <td>0.167653</td>\n",
              "      <td>0.136099</td>\n",
              "      <td>0.055825</td>\n",
              "      <td>0.100648</td>\n",
              "      <td>0.130294</td>\n",
              "      <td>0.183696</td>\n",
              "      <td>0.168146</td>\n",
              "      <td>0.154747</td>\n",
              "      <td>0.187868</td>\n",
              "      <td>0.161465</td>\n",
              "    </tr>\n",
              "    <tr>\n",
              "      <th>epoch</th>\n",
              "      <td>-0.027808</td>\n",
              "      <td>-0.044887</td>\n",
              "      <td>0.034888</td>\n",
              "      <td>0.015128</td>\n",
              "      <td>0.003675</td>\n",
              "      <td>1.000000</td>\n",
              "      <td>1.000000</td>\n",
              "      <td>1.000000</td>\n",
              "      <td>-0.020625</td>\n",
              "      <td>0.016869</td>\n",
              "      <td>...</td>\n",
              "      <td>-0.054626</td>\n",
              "      <td>-0.055782</td>\n",
              "      <td>-0.055257</td>\n",
              "      <td>-0.055102</td>\n",
              "      <td>-0.054734</td>\n",
              "      <td>-0.054137</td>\n",
              "      <td>-0.056011</td>\n",
              "      <td>-0.053974</td>\n",
              "      <td>-0.054109</td>\n",
              "      <td>0.027247</td>\n",
              "    </tr>\n",
              "    <tr>\n",
              "      <th>epoch_mjd</th>\n",
              "      <td>-0.027808</td>\n",
              "      <td>-0.044887</td>\n",
              "      <td>0.034888</td>\n",
              "      <td>0.015128</td>\n",
              "      <td>0.003675</td>\n",
              "      <td>1.000000</td>\n",
              "      <td>1.000000</td>\n",
              "      <td>1.000000</td>\n",
              "      <td>-0.020625</td>\n",
              "      <td>0.016869</td>\n",
              "      <td>...</td>\n",
              "      <td>-0.054626</td>\n",
              "      <td>-0.055782</td>\n",
              "      <td>-0.055257</td>\n",
              "      <td>-0.055102</td>\n",
              "      <td>-0.054734</td>\n",
              "      <td>-0.054137</td>\n",
              "      <td>-0.056011</td>\n",
              "      <td>-0.053974</td>\n",
              "      <td>-0.054109</td>\n",
              "      <td>0.027247</td>\n",
              "    </tr>\n",
              "    <tr>\n",
              "      <th>epoch_cal</th>\n",
              "      <td>-0.027808</td>\n",
              "      <td>-0.044887</td>\n",
              "      <td>0.034888</td>\n",
              "      <td>0.015128</td>\n",
              "      <td>0.003675</td>\n",
              "      <td>1.000000</td>\n",
              "      <td>1.000000</td>\n",
              "      <td>1.000000</td>\n",
              "      <td>-0.020625</td>\n",
              "      <td>0.016869</td>\n",
              "      <td>...</td>\n",
              "      <td>-0.054626</td>\n",
              "      <td>-0.055782</td>\n",
              "      <td>-0.055257</td>\n",
              "      <td>-0.055102</td>\n",
              "      <td>-0.054734</td>\n",
              "      <td>-0.054137</td>\n",
              "      <td>-0.056011</td>\n",
              "      <td>-0.053974</td>\n",
              "      <td>-0.054109</td>\n",
              "      <td>0.027247</td>\n",
              "    </tr>\n",
              "    <tr>\n",
              "      <th>e</th>\n",
              "      <td>0.047120</td>\n",
              "      <td>0.127417</td>\n",
              "      <td>-0.109160</td>\n",
              "      <td>-0.022749</td>\n",
              "      <td>-0.079491</td>\n",
              "      <td>-0.020625</td>\n",
              "      <td>-0.020625</td>\n",
              "      <td>-0.020625</td>\n",
              "      <td>1.000000</td>\n",
              "      <td>-0.112707</td>\n",
              "      <td>...</td>\n",
              "      <td>0.004875</td>\n",
              "      <td>0.069544</td>\n",
              "      <td>-0.010874</td>\n",
              "      <td>-0.245189</td>\n",
              "      <td>-0.502704</td>\n",
              "      <td>-0.008025</td>\n",
              "      <td>-0.015630</td>\n",
              "      <td>-0.460053</td>\n",
              "      <td>-0.070388</td>\n",
              "      <td>-0.043091</td>\n",
              "    </tr>\n",
              "    <tr>\n",
              "      <th>a</th>\n",
              "      <td>-0.045384</td>\n",
              "      <td>-0.167332</td>\n",
              "      <td>0.395539</td>\n",
              "      <td>-0.277249</td>\n",
              "      <td>0.143563</td>\n",
              "      <td>0.016869</td>\n",
              "      <td>0.016869</td>\n",
              "      <td>0.016869</td>\n",
              "      <td>-0.112707</td>\n",
              "      <td>1.000000</td>\n",
              "      <td>...</td>\n",
              "      <td>0.385462</td>\n",
              "      <td>0.220249</td>\n",
              "      <td>-0.084869</td>\n",
              "      <td>0.046885</td>\n",
              "      <td>0.198819</td>\n",
              "      <td>0.527708</td>\n",
              "      <td>0.238849</td>\n",
              "      <td>0.362213</td>\n",
              "      <td>0.571892</td>\n",
              "      <td>0.098483</td>\n",
              "    </tr>\n",
              "    <tr>\n",
              "      <th>q</th>\n",
              "      <td>-0.052349</td>\n",
              "      <td>-0.199003</td>\n",
              "      <td>0.361509</td>\n",
              "      <td>-0.193409</td>\n",
              "      <td>0.153587</td>\n",
              "      <td>0.024731</td>\n",
              "      <td>0.024731</td>\n",
              "      <td>0.024731</td>\n",
              "      <td>-0.464975</td>\n",
              "      <td>0.647732</td>\n",
              "      <td>...</td>\n",
              "      <td>0.289531</td>\n",
              "      <td>0.128040</td>\n",
              "      <td>-0.052332</td>\n",
              "      <td>0.153117</td>\n",
              "      <td>0.392244</td>\n",
              "      <td>0.388955</td>\n",
              "      <td>0.189044</td>\n",
              "      <td>0.534382</td>\n",
              "      <td>0.459333</td>\n",
              "      <td>0.102849</td>\n",
              "    </tr>\n",
              "    <tr>\n",
              "      <th>i</th>\n",
              "      <td>0.011400</td>\n",
              "      <td>-0.067508</td>\n",
              "      <td>0.119099</td>\n",
              "      <td>-0.042944</td>\n",
              "      <td>0.006433</td>\n",
              "      <td>-0.028781</td>\n",
              "      <td>-0.028781</td>\n",
              "      <td>-0.028781</td>\n",
              "      <td>0.048439</td>\n",
              "      <td>0.183805</td>\n",
              "      <td>...</td>\n",
              "      <td>0.242567</td>\n",
              "      <td>0.286625</td>\n",
              "      <td>-0.701381</td>\n",
              "      <td>-0.440740</td>\n",
              "      <td>0.113565</td>\n",
              "      <td>0.252210</td>\n",
              "      <td>0.230759</td>\n",
              "      <td>0.142644</td>\n",
              "      <td>0.243556</td>\n",
              "      <td>-0.017676</td>\n",
              "    </tr>\n",
              "    <tr>\n",
              "      <th>om</th>\n",
              "      <td>0.000343</td>\n",
              "      <td>0.000008</td>\n",
              "      <td>0.002688</td>\n",
              "      <td>-0.000023</td>\n",
              "      <td>-0.002573</td>\n",
              "      <td>-0.001336</td>\n",
              "      <td>-0.001336</td>\n",
              "      <td>-0.001336</td>\n",
              "      <td>-0.002123</td>\n",
              "      <td>-0.004369</td>\n",
              "      <td>...</td>\n",
              "      <td>0.019375</td>\n",
              "      <td>0.037472</td>\n",
              "      <td>0.011369</td>\n",
              "      <td>0.014902</td>\n",
              "      <td>0.018187</td>\n",
              "      <td>0.008846</td>\n",
              "      <td>0.014443</td>\n",
              "      <td>0.014755</td>\n",
              "      <td>0.008055</td>\n",
              "      <td>-0.053054</td>\n",
              "    </tr>\n",
              "    <tr>\n",
              "      <th>w</th>\n",
              "      <td>-0.001745</td>\n",
              "      <td>-0.006121</td>\n",
              "      <td>0.003848</td>\n",
              "      <td>0.000121</td>\n",
              "      <td>0.002057</td>\n",
              "      <td>-0.001150</td>\n",
              "      <td>-0.001150</td>\n",
              "      <td>-0.001150</td>\n",
              "      <td>0.009590</td>\n",
              "      <td>-0.003482</td>\n",
              "      <td>...</td>\n",
              "      <td>-0.004328</td>\n",
              "      <td>-0.015954</td>\n",
              "      <td>-0.000023</td>\n",
              "      <td>-0.013885</td>\n",
              "      <td>-0.015934</td>\n",
              "      <td>0.003275</td>\n",
              "      <td>0.006182</td>\n",
              "      <td>-0.014554</td>\n",
              "      <td>0.001889</td>\n",
              "      <td>0.021353</td>\n",
              "    </tr>\n",
              "    <tr>\n",
              "      <th>ma</th>\n",
              "      <td>-0.001048</td>\n",
              "      <td>0.010908</td>\n",
              "      <td>-0.008892</td>\n",
              "      <td>-0.000073</td>\n",
              "      <td>-0.023085</td>\n",
              "      <td>0.000848</td>\n",
              "      <td>0.000848</td>\n",
              "      <td>0.000848</td>\n",
              "      <td>-0.004112</td>\n",
              "      <td>0.023327</td>\n",
              "      <td>...</td>\n",
              "      <td>0.038040</td>\n",
              "      <td>0.038386</td>\n",
              "      <td>0.024364</td>\n",
              "      <td>0.039179</td>\n",
              "      <td>0.065385</td>\n",
              "      <td>0.062627</td>\n",
              "      <td>0.081197</td>\n",
              "      <td>0.069735</td>\n",
              "      <td>0.061007</td>\n",
              "      <td>0.062168</td>\n",
              "    </tr>\n",
              "    <tr>\n",
              "      <th>ad</th>\n",
              "      <td>-0.023854</td>\n",
              "      <td>-0.110743</td>\n",
              "      <td>0.328585</td>\n",
              "      <td>-0.271471</td>\n",
              "      <td>0.109867</td>\n",
              "      <td>0.008228</td>\n",
              "      <td>0.008228</td>\n",
              "      <td>0.008228</td>\n",
              "      <td>0.193487</td>\n",
              "      <td>0.693806</td>\n",
              "      <td>...</td>\n",
              "      <td>0.385182</td>\n",
              "      <td>0.250904</td>\n",
              "      <td>-0.093356</td>\n",
              "      <td>-0.061385</td>\n",
              "      <td>0.001456</td>\n",
              "      <td>0.509457</td>\n",
              "      <td>0.226087</td>\n",
              "      <td>0.157404</td>\n",
              "      <td>0.508029</td>\n",
              "      <td>0.069966</td>\n",
              "    </tr>\n",
              "    <tr>\n",
              "      <th>n</th>\n",
              "      <td>0.045384</td>\n",
              "      <td>0.167332</td>\n",
              "      <td>-0.395539</td>\n",
              "      <td>0.277249</td>\n",
              "      <td>-0.143563</td>\n",
              "      <td>-0.016869</td>\n",
              "      <td>-0.016869</td>\n",
              "      <td>-0.016869</td>\n",
              "      <td>0.112707</td>\n",
              "      <td>-1.000000</td>\n",
              "      <td>...</td>\n",
              "      <td>-0.385462</td>\n",
              "      <td>-0.220249</td>\n",
              "      <td>0.084869</td>\n",
              "      <td>-0.046885</td>\n",
              "      <td>-0.198819</td>\n",
              "      <td>-0.527708</td>\n",
              "      <td>-0.238849</td>\n",
              "      <td>-0.362213</td>\n",
              "      <td>-0.571892</td>\n",
              "      <td>-0.098483</td>\n",
              "    </tr>\n",
              "    <tr>\n",
              "      <th>tp</th>\n",
              "      <td>-0.004550</td>\n",
              "      <td>-0.009028</td>\n",
              "      <td>0.020052</td>\n",
              "      <td>-0.010795</td>\n",
              "      <td>-0.008167</td>\n",
              "      <td>0.059048</td>\n",
              "      <td>0.059048</td>\n",
              "      <td>0.059048</td>\n",
              "      <td>-0.011804</td>\n",
              "      <td>0.048391</td>\n",
              "      <td>...</td>\n",
              "      <td>0.059668</td>\n",
              "      <td>0.031371</td>\n",
              "      <td>0.010833</td>\n",
              "      <td>0.025224</td>\n",
              "      <td>0.046513</td>\n",
              "      <td>0.061992</td>\n",
              "      <td>0.071660</td>\n",
              "      <td>0.065685</td>\n",
              "      <td>0.061336</td>\n",
              "      <td>0.058058</td>\n",
              "    </tr>\n",
              "    <tr>\n",
              "      <th>tp_cal</th>\n",
              "      <td>-0.004550</td>\n",
              "      <td>-0.009028</td>\n",
              "      <td>0.020052</td>\n",
              "      <td>-0.010795</td>\n",
              "      <td>-0.008167</td>\n",
              "      <td>0.059048</td>\n",
              "      <td>0.059048</td>\n",
              "      <td>0.059048</td>\n",
              "      <td>-0.011804</td>\n",
              "      <td>0.048391</td>\n",
              "      <td>...</td>\n",
              "      <td>0.059668</td>\n",
              "      <td>0.031371</td>\n",
              "      <td>0.010833</td>\n",
              "      <td>0.025224</td>\n",
              "      <td>0.046513</td>\n",
              "      <td>0.061992</td>\n",
              "      <td>0.071660</td>\n",
              "      <td>0.065685</td>\n",
              "      <td>0.061336</td>\n",
              "      <td>0.058058</td>\n",
              "    </tr>\n",
              "    <tr>\n",
              "      <th>per</th>\n",
              "      <td>-0.045384</td>\n",
              "      <td>-0.167332</td>\n",
              "      <td>0.395539</td>\n",
              "      <td>-0.277249</td>\n",
              "      <td>0.143563</td>\n",
              "      <td>0.016869</td>\n",
              "      <td>0.016869</td>\n",
              "      <td>0.016869</td>\n",
              "      <td>-0.112707</td>\n",
              "      <td>1.000000</td>\n",
              "      <td>...</td>\n",
              "      <td>0.385462</td>\n",
              "      <td>0.220249</td>\n",
              "      <td>-0.084869</td>\n",
              "      <td>0.046885</td>\n",
              "      <td>0.198819</td>\n",
              "      <td>0.527708</td>\n",
              "      <td>0.238849</td>\n",
              "      <td>0.362213</td>\n",
              "      <td>0.571892</td>\n",
              "      <td>0.098483</td>\n",
              "    </tr>\n",
              "    <tr>\n",
              "      <th>per_y</th>\n",
              "      <td>-0.045384</td>\n",
              "      <td>-0.167332</td>\n",
              "      <td>0.395539</td>\n",
              "      <td>-0.277249</td>\n",
              "      <td>0.143563</td>\n",
              "      <td>0.016869</td>\n",
              "      <td>0.016869</td>\n",
              "      <td>0.016869</td>\n",
              "      <td>-0.112707</td>\n",
              "      <td>1.000000</td>\n",
              "      <td>...</td>\n",
              "      <td>0.385462</td>\n",
              "      <td>0.220249</td>\n",
              "      <td>-0.084869</td>\n",
              "      <td>0.046885</td>\n",
              "      <td>0.198819</td>\n",
              "      <td>0.527708</td>\n",
              "      <td>0.238849</td>\n",
              "      <td>0.362213</td>\n",
              "      <td>0.571892</td>\n",
              "      <td>0.098483</td>\n",
              "    </tr>\n",
              "    <tr>\n",
              "      <th>moid</th>\n",
              "      <td>-0.052475</td>\n",
              "      <td>-0.199682</td>\n",
              "      <td>0.365976</td>\n",
              "      <td>-0.196737</td>\n",
              "      <td>0.153021</td>\n",
              "      <td>0.022818</td>\n",
              "      <td>0.022818</td>\n",
              "      <td>0.022818</td>\n",
              "      <td>-0.450827</td>\n",
              "      <td>0.657231</td>\n",
              "      <td>...</td>\n",
              "      <td>0.296759</td>\n",
              "      <td>0.140530</td>\n",
              "      <td>-0.072636</td>\n",
              "      <td>0.139271</td>\n",
              "      <td>0.393380</td>\n",
              "      <td>0.399351</td>\n",
              "      <td>0.196845</td>\n",
              "      <td>0.537340</td>\n",
              "      <td>0.469337</td>\n",
              "      <td>0.100704</td>\n",
              "    </tr>\n",
              "    <tr>\n",
              "      <th>moid_ld</th>\n",
              "      <td>-0.052475</td>\n",
              "      <td>-0.199682</td>\n",
              "      <td>0.365976</td>\n",
              "      <td>-0.196737</td>\n",
              "      <td>0.153021</td>\n",
              "      <td>0.022818</td>\n",
              "      <td>0.022818</td>\n",
              "      <td>0.022818</td>\n",
              "      <td>-0.450827</td>\n",
              "      <td>0.657231</td>\n",
              "      <td>...</td>\n",
              "      <td>0.296759</td>\n",
              "      <td>0.140530</td>\n",
              "      <td>-0.072636</td>\n",
              "      <td>0.139271</td>\n",
              "      <td>0.393380</td>\n",
              "      <td>0.399351</td>\n",
              "      <td>0.196845</td>\n",
              "      <td>0.537340</td>\n",
              "      <td>0.469337</td>\n",
              "      <td>0.100704</td>\n",
              "    </tr>\n",
              "    <tr>\n",
              "      <th>sigma_e</th>\n",
              "      <td>0.000692</td>\n",
              "      <td>0.348608</td>\n",
              "      <td>-0.135478</td>\n",
              "      <td>-0.261012</td>\n",
              "      <td>0.144586</td>\n",
              "      <td>-0.055773</td>\n",
              "      <td>-0.055773</td>\n",
              "      <td>-0.055773</td>\n",
              "      <td>0.048065</td>\n",
              "      <td>0.188716</td>\n",
              "      <td>...</td>\n",
              "      <td>0.793165</td>\n",
              "      <td>0.592602</td>\n",
              "      <td>0.009876</td>\n",
              "      <td>0.122063</td>\n",
              "      <td>0.272696</td>\n",
              "      <td>0.514962</td>\n",
              "      <td>0.582800</td>\n",
              "      <td>0.298036</td>\n",
              "      <td>0.488100</td>\n",
              "      <td>0.263807</td>\n",
              "    </tr>\n",
              "    <tr>\n",
              "      <th>sigma_a</th>\n",
              "      <td>-0.025993</td>\n",
              "      <td>0.213548</td>\n",
              "      <td>0.061025</td>\n",
              "      <td>-0.363743</td>\n",
              "      <td>0.188343</td>\n",
              "      <td>-0.054117</td>\n",
              "      <td>-0.054117</td>\n",
              "      <td>-0.054117</td>\n",
              "      <td>-0.065439</td>\n",
              "      <td>0.537472</td>\n",
              "      <td>...</td>\n",
              "      <td>0.657839</td>\n",
              "      <td>0.528862</td>\n",
              "      <td>-0.013927</td>\n",
              "      <td>0.161199</td>\n",
              "      <td>0.404984</td>\n",
              "      <td>0.942605</td>\n",
              "      <td>0.701397</td>\n",
              "      <td>0.523961</td>\n",
              "      <td>0.965599</td>\n",
              "      <td>0.282198</td>\n",
              "    </tr>\n",
              "    <tr>\n",
              "      <th>sigma_q</th>\n",
              "      <td>-0.021452</td>\n",
              "      <td>0.241317</td>\n",
              "      <td>-0.000793</td>\n",
              "      <td>-0.313538</td>\n",
              "      <td>0.167653</td>\n",
              "      <td>-0.054626</td>\n",
              "      <td>-0.054626</td>\n",
              "      <td>-0.054626</td>\n",
              "      <td>0.004875</td>\n",
              "      <td>0.385462</td>\n",
              "      <td>...</td>\n",
              "      <td>1.000000</td>\n",
              "      <td>0.581721</td>\n",
              "      <td>-0.007973</td>\n",
              "      <td>0.130142</td>\n",
              "      <td>0.308233</td>\n",
              "      <td>0.663239</td>\n",
              "      <td>0.586870</td>\n",
              "      <td>0.389640</td>\n",
              "      <td>0.650149</td>\n",
              "      <td>0.252939</td>\n",
              "    </tr>\n",
              "    <tr>\n",
              "      <th>sigma_i</th>\n",
              "      <td>0.016750</td>\n",
              "      <td>0.345311</td>\n",
              "      <td>-0.120879</td>\n",
              "      <td>-0.278846</td>\n",
              "      <td>0.136099</td>\n",
              "      <td>-0.055782</td>\n",
              "      <td>-0.055782</td>\n",
              "      <td>-0.055782</td>\n",
              "      <td>0.069544</td>\n",
              "      <td>0.220249</td>\n",
              "      <td>...</td>\n",
              "      <td>0.581721</td>\n",
              "      <td>1.000000</td>\n",
              "      <td>-0.084310</td>\n",
              "      <td>0.075330</td>\n",
              "      <td>0.330456</td>\n",
              "      <td>0.541082</td>\n",
              "      <td>0.592805</td>\n",
              "      <td>0.355014</td>\n",
              "      <td>0.511667</td>\n",
              "      <td>0.275113</td>\n",
              "    </tr>\n",
              "    <tr>\n",
              "      <th>sigma_om</th>\n",
              "      <td>-0.013081</td>\n",
              "      <td>0.240351</td>\n",
              "      <td>-0.191951</td>\n",
              "      <td>-0.081028</td>\n",
              "      <td>0.055825</td>\n",
              "      <td>-0.055257</td>\n",
              "      <td>-0.055257</td>\n",
              "      <td>-0.055257</td>\n",
              "      <td>-0.010874</td>\n",
              "      <td>-0.084869</td>\n",
              "      <td>...</td>\n",
              "      <td>-0.007973</td>\n",
              "      <td>-0.084310</td>\n",
              "      <td>1.000000</td>\n",
              "      <td>0.645713</td>\n",
              "      <td>0.041230</td>\n",
              "      <td>-0.017399</td>\n",
              "      <td>0.015611</td>\n",
              "      <td>0.020738</td>\n",
              "      <td>-0.017764</td>\n",
              "      <td>0.131360</td>\n",
              "    </tr>\n",
              "    <tr>\n",
              "      <th>sigma_w</th>\n",
              "      <td>-0.016717</td>\n",
              "      <td>0.240747</td>\n",
              "      <td>-0.141311</td>\n",
              "      <td>-0.139575</td>\n",
              "      <td>0.100648</td>\n",
              "      <td>-0.055102</td>\n",
              "      <td>-0.055102</td>\n",
              "      <td>-0.055102</td>\n",
              "      <td>-0.245189</td>\n",
              "      <td>0.046885</td>\n",
              "      <td>...</td>\n",
              "      <td>0.130142</td>\n",
              "      <td>0.075330</td>\n",
              "      <td>0.645713</td>\n",
              "      <td>1.000000</td>\n",
              "      <td>0.385550</td>\n",
              "      <td>0.137877</td>\n",
              "      <td>0.174031</td>\n",
              "      <td>0.350330</td>\n",
              "      <td>0.157212</td>\n",
              "      <td>0.176592</td>\n",
              "    </tr>\n",
              "    <tr>\n",
              "      <th>sigma_ma</th>\n",
              "      <td>-0.012855</td>\n",
              "      <td>0.161055</td>\n",
              "      <td>-0.045662</td>\n",
              "      <td>-0.148262</td>\n",
              "      <td>0.130294</td>\n",
              "      <td>-0.054734</td>\n",
              "      <td>-0.054734</td>\n",
              "      <td>-0.054734</td>\n",
              "      <td>-0.502704</td>\n",
              "      <td>0.198819</td>\n",
              "      <td>...</td>\n",
              "      <td>0.308233</td>\n",
              "      <td>0.330456</td>\n",
              "      <td>0.041230</td>\n",
              "      <td>0.385550</td>\n",
              "      <td>1.000000</td>\n",
              "      <td>0.359130</td>\n",
              "      <td>0.417790</td>\n",
              "      <td>0.834210</td>\n",
              "      <td>0.396576</td>\n",
              "      <td>0.202334</td>\n",
              "    </tr>\n",
              "    <tr>\n",
              "      <th>sigma_ad</th>\n",
              "      <td>-0.021155</td>\n",
              "      <td>0.224874</td>\n",
              "      <td>0.053934</td>\n",
              "      <td>-0.368563</td>\n",
              "      <td>0.183696</td>\n",
              "      <td>-0.054137</td>\n",
              "      <td>-0.054137</td>\n",
              "      <td>-0.054137</td>\n",
              "      <td>-0.008025</td>\n",
              "      <td>0.527708</td>\n",
              "      <td>...</td>\n",
              "      <td>0.663239</td>\n",
              "      <td>0.541082</td>\n",
              "      <td>-0.017399</td>\n",
              "      <td>0.137877</td>\n",
              "      <td>0.359130</td>\n",
              "      <td>1.000000</td>\n",
              "      <td>0.700984</td>\n",
              "      <td>0.474809</td>\n",
              "      <td>0.928726</td>\n",
              "      <td>0.279765</td>\n",
              "    </tr>\n",
              "    <tr>\n",
              "      <th>sigma_n</th>\n",
              "      <td>0.012246</td>\n",
              "      <td>0.441220</td>\n",
              "      <td>-0.171099</td>\n",
              "      <td>-0.314824</td>\n",
              "      <td>0.168146</td>\n",
              "      <td>-0.056011</td>\n",
              "      <td>-0.056011</td>\n",
              "      <td>-0.056011</td>\n",
              "      <td>-0.015630</td>\n",
              "      <td>0.238849</td>\n",
              "      <td>...</td>\n",
              "      <td>0.586870</td>\n",
              "      <td>0.592805</td>\n",
              "      <td>0.015611</td>\n",
              "      <td>0.174031</td>\n",
              "      <td>0.417790</td>\n",
              "      <td>0.700984</td>\n",
              "      <td>1.000000</td>\n",
              "      <td>0.439465</td>\n",
              "      <td>0.666975</td>\n",
              "      <td>0.359964</td>\n",
              "    </tr>\n",
              "    <tr>\n",
              "      <th>sigma_tp</th>\n",
              "      <td>-0.033666</td>\n",
              "      <td>0.096022</td>\n",
              "      <td>0.060248</td>\n",
              "      <td>-0.206473</td>\n",
              "      <td>0.154747</td>\n",
              "      <td>-0.053974</td>\n",
              "      <td>-0.053974</td>\n",
              "      <td>-0.053974</td>\n",
              "      <td>-0.460053</td>\n",
              "      <td>0.362213</td>\n",
              "      <td>...</td>\n",
              "      <td>0.389640</td>\n",
              "      <td>0.355014</td>\n",
              "      <td>0.020738</td>\n",
              "      <td>0.350330</td>\n",
              "      <td>0.834210</td>\n",
              "      <td>0.474809</td>\n",
              "      <td>0.439465</td>\n",
              "      <td>1.000000</td>\n",
              "      <td>0.523911</td>\n",
              "      <td>0.206511</td>\n",
              "    </tr>\n",
              "    <tr>\n",
              "      <th>sigma_per</th>\n",
              "      <td>-0.029708</td>\n",
              "      <td>0.185315</td>\n",
              "      <td>0.087797</td>\n",
              "      <td>-0.363036</td>\n",
              "      <td>0.187868</td>\n",
              "      <td>-0.054109</td>\n",
              "      <td>-0.054109</td>\n",
              "      <td>-0.054109</td>\n",
              "      <td>-0.070388</td>\n",
              "      <td>0.571892</td>\n",
              "      <td>...</td>\n",
              "      <td>0.650149</td>\n",
              "      <td>0.511667</td>\n",
              "      <td>-0.017764</td>\n",
              "      <td>0.157212</td>\n",
              "      <td>0.396576</td>\n",
              "      <td>0.928726</td>\n",
              "      <td>0.666975</td>\n",
              "      <td>0.523911</td>\n",
              "      <td>1.000000</td>\n",
              "      <td>0.268787</td>\n",
              "    </tr>\n",
              "    <tr>\n",
              "      <th>rms</th>\n",
              "      <td>-0.028652</td>\n",
              "      <td>0.351746</td>\n",
              "      <td>-0.188449</td>\n",
              "      <td>-0.190768</td>\n",
              "      <td>0.161465</td>\n",
              "      <td>0.027247</td>\n",
              "      <td>0.027247</td>\n",
              "      <td>0.027247</td>\n",
              "      <td>-0.043091</td>\n",
              "      <td>0.098483</td>\n",
              "      <td>...</td>\n",
              "      <td>0.252939</td>\n",
              "      <td>0.275113</td>\n",
              "      <td>0.131360</td>\n",
              "      <td>0.176592</td>\n",
              "      <td>0.202334</td>\n",
              "      <td>0.279765</td>\n",
              "      <td>0.359964</td>\n",
              "      <td>0.206511</td>\n",
              "      <td>0.268787</td>\n",
              "      <td>1.000000</td>\n",
              "    </tr>\n",
              "  </tbody>\n",
              "</table>\n",
              "<p>35 rows × 35 columns</p>\n",
              "</div>"
            ],
            "text/plain": [
              "                     pha         H  diameter    albedo  diameter_sigma  \\\n",
              "pha             1.000000  0.047659 -0.049473  0.011189       -0.039845   \n",
              "H               0.047659  1.000000 -0.560739 -0.224991        0.110240   \n",
              "diameter       -0.049473 -0.560739  1.000000 -0.197910       -0.063220   \n",
              "albedo          0.011189 -0.224991 -0.197910  1.000000       -0.063707   \n",
              "diameter_sigma -0.039845  0.110240 -0.063220 -0.063707        1.000000   \n",
              "epoch          -0.027808 -0.044887  0.034888  0.015128        0.003675   \n",
              "epoch_mjd      -0.027808 -0.044887  0.034888  0.015128        0.003675   \n",
              "epoch_cal      -0.027808 -0.044887  0.034888  0.015128        0.003675   \n",
              "e               0.047120  0.127417 -0.109160 -0.022749       -0.079491   \n",
              "a              -0.045384 -0.167332  0.395539 -0.277249        0.143563   \n",
              "q              -0.052349 -0.199003  0.361509 -0.193409        0.153587   \n",
              "i               0.011400 -0.067508  0.119099 -0.042944        0.006433   \n",
              "om              0.000343  0.000008  0.002688 -0.000023       -0.002573   \n",
              "w              -0.001745 -0.006121  0.003848  0.000121        0.002057   \n",
              "ma             -0.001048  0.010908 -0.008892 -0.000073       -0.023085   \n",
              "ad             -0.023854 -0.110743  0.328585 -0.271471        0.109867   \n",
              "n               0.045384  0.167332 -0.395539  0.277249       -0.143563   \n",
              "tp             -0.004550 -0.009028  0.020052 -0.010795       -0.008167   \n",
              "tp_cal         -0.004550 -0.009028  0.020052 -0.010795       -0.008167   \n",
              "per            -0.045384 -0.167332  0.395539 -0.277249        0.143563   \n",
              "per_y          -0.045384 -0.167332  0.395539 -0.277249        0.143563   \n",
              "moid           -0.052475 -0.199682  0.365976 -0.196737        0.153021   \n",
              "moid_ld        -0.052475 -0.199682  0.365976 -0.196737        0.153021   \n",
              "sigma_e         0.000692  0.348608 -0.135478 -0.261012        0.144586   \n",
              "sigma_a        -0.025993  0.213548  0.061025 -0.363743        0.188343   \n",
              "sigma_q        -0.021452  0.241317 -0.000793 -0.313538        0.167653   \n",
              "sigma_i         0.016750  0.345311 -0.120879 -0.278846        0.136099   \n",
              "sigma_om       -0.013081  0.240351 -0.191951 -0.081028        0.055825   \n",
              "sigma_w        -0.016717  0.240747 -0.141311 -0.139575        0.100648   \n",
              "sigma_ma       -0.012855  0.161055 -0.045662 -0.148262        0.130294   \n",
              "sigma_ad       -0.021155  0.224874  0.053934 -0.368563        0.183696   \n",
              "sigma_n         0.012246  0.441220 -0.171099 -0.314824        0.168146   \n",
              "sigma_tp       -0.033666  0.096022  0.060248 -0.206473        0.154747   \n",
              "sigma_per      -0.029708  0.185315  0.087797 -0.363036        0.187868   \n",
              "rms            -0.028652  0.351746 -0.188449 -0.190768        0.161465   \n",
              "\n",
              "                   epoch  epoch_mjd  epoch_cal         e         a  ...  \\\n",
              "pha            -0.027808  -0.027808  -0.027808  0.047120 -0.045384  ...   \n",
              "H              -0.044887  -0.044887  -0.044887  0.127417 -0.167332  ...   \n",
              "diameter        0.034888   0.034888   0.034888 -0.109160  0.395539  ...   \n",
              "albedo          0.015128   0.015128   0.015128 -0.022749 -0.277249  ...   \n",
              "diameter_sigma  0.003675   0.003675   0.003675 -0.079491  0.143563  ...   \n",
              "epoch           1.000000   1.000000   1.000000 -0.020625  0.016869  ...   \n",
              "epoch_mjd       1.000000   1.000000   1.000000 -0.020625  0.016869  ...   \n",
              "epoch_cal       1.000000   1.000000   1.000000 -0.020625  0.016869  ...   \n",
              "e              -0.020625  -0.020625  -0.020625  1.000000 -0.112707  ...   \n",
              "a               0.016869   0.016869   0.016869 -0.112707  1.000000  ...   \n",
              "q               0.024731   0.024731   0.024731 -0.464975  0.647732  ...   \n",
              "i              -0.028781  -0.028781  -0.028781  0.048439  0.183805  ...   \n",
              "om             -0.001336  -0.001336  -0.001336 -0.002123 -0.004369  ...   \n",
              "w              -0.001150  -0.001150  -0.001150  0.009590 -0.003482  ...   \n",
              "ma              0.000848   0.000848   0.000848 -0.004112  0.023327  ...   \n",
              "ad              0.008228   0.008228   0.008228  0.193487  0.693806  ...   \n",
              "n              -0.016869  -0.016869  -0.016869  0.112707 -1.000000  ...   \n",
              "tp              0.059048   0.059048   0.059048 -0.011804  0.048391  ...   \n",
              "tp_cal          0.059048   0.059048   0.059048 -0.011804  0.048391  ...   \n",
              "per             0.016869   0.016869   0.016869 -0.112707  1.000000  ...   \n",
              "per_y           0.016869   0.016869   0.016869 -0.112707  1.000000  ...   \n",
              "moid            0.022818   0.022818   0.022818 -0.450827  0.657231  ...   \n",
              "moid_ld         0.022818   0.022818   0.022818 -0.450827  0.657231  ...   \n",
              "sigma_e        -0.055773  -0.055773  -0.055773  0.048065  0.188716  ...   \n",
              "sigma_a        -0.054117  -0.054117  -0.054117 -0.065439  0.537472  ...   \n",
              "sigma_q        -0.054626  -0.054626  -0.054626  0.004875  0.385462  ...   \n",
              "sigma_i        -0.055782  -0.055782  -0.055782  0.069544  0.220249  ...   \n",
              "sigma_om       -0.055257  -0.055257  -0.055257 -0.010874 -0.084869  ...   \n",
              "sigma_w        -0.055102  -0.055102  -0.055102 -0.245189  0.046885  ...   \n",
              "sigma_ma       -0.054734  -0.054734  -0.054734 -0.502704  0.198819  ...   \n",
              "sigma_ad       -0.054137  -0.054137  -0.054137 -0.008025  0.527708  ...   \n",
              "sigma_n        -0.056011  -0.056011  -0.056011 -0.015630  0.238849  ...   \n",
              "sigma_tp       -0.053974  -0.053974  -0.053974 -0.460053  0.362213  ...   \n",
              "sigma_per      -0.054109  -0.054109  -0.054109 -0.070388  0.571892  ...   \n",
              "rms             0.027247   0.027247   0.027247 -0.043091  0.098483  ...   \n",
              "\n",
              "                 sigma_q   sigma_i  sigma_om   sigma_w  sigma_ma  sigma_ad  \\\n",
              "pha            -0.021452  0.016750 -0.013081 -0.016717 -0.012855 -0.021155   \n",
              "H               0.241317  0.345311  0.240351  0.240747  0.161055  0.224874   \n",
              "diameter       -0.000793 -0.120879 -0.191951 -0.141311 -0.045662  0.053934   \n",
              "albedo         -0.313538 -0.278846 -0.081028 -0.139575 -0.148262 -0.368563   \n",
              "diameter_sigma  0.167653  0.136099  0.055825  0.100648  0.130294  0.183696   \n",
              "epoch          -0.054626 -0.055782 -0.055257 -0.055102 -0.054734 -0.054137   \n",
              "epoch_mjd      -0.054626 -0.055782 -0.055257 -0.055102 -0.054734 -0.054137   \n",
              "epoch_cal      -0.054626 -0.055782 -0.055257 -0.055102 -0.054734 -0.054137   \n",
              "e               0.004875  0.069544 -0.010874 -0.245189 -0.502704 -0.008025   \n",
              "a               0.385462  0.220249 -0.084869  0.046885  0.198819  0.527708   \n",
              "q               0.289531  0.128040 -0.052332  0.153117  0.392244  0.388955   \n",
              "i               0.242567  0.286625 -0.701381 -0.440740  0.113565  0.252210   \n",
              "om              0.019375  0.037472  0.011369  0.014902  0.018187  0.008846   \n",
              "w              -0.004328 -0.015954 -0.000023 -0.013885 -0.015934  0.003275   \n",
              "ma              0.038040  0.038386  0.024364  0.039179  0.065385  0.062627   \n",
              "ad              0.385182  0.250904 -0.093356 -0.061385  0.001456  0.509457   \n",
              "n              -0.385462 -0.220249  0.084869 -0.046885 -0.198819 -0.527708   \n",
              "tp              0.059668  0.031371  0.010833  0.025224  0.046513  0.061992   \n",
              "tp_cal          0.059668  0.031371  0.010833  0.025224  0.046513  0.061992   \n",
              "per             0.385462  0.220249 -0.084869  0.046885  0.198819  0.527708   \n",
              "per_y           0.385462  0.220249 -0.084869  0.046885  0.198819  0.527708   \n",
              "moid            0.296759  0.140530 -0.072636  0.139271  0.393380  0.399351   \n",
              "moid_ld         0.296759  0.140530 -0.072636  0.139271  0.393380  0.399351   \n",
              "sigma_e         0.793165  0.592602  0.009876  0.122063  0.272696  0.514962   \n",
              "sigma_a         0.657839  0.528862 -0.013927  0.161199  0.404984  0.942605   \n",
              "sigma_q         1.000000  0.581721 -0.007973  0.130142  0.308233  0.663239   \n",
              "sigma_i         0.581721  1.000000 -0.084310  0.075330  0.330456  0.541082   \n",
              "sigma_om       -0.007973 -0.084310  1.000000  0.645713  0.041230 -0.017399   \n",
              "sigma_w         0.130142  0.075330  0.645713  1.000000  0.385550  0.137877   \n",
              "sigma_ma        0.308233  0.330456  0.041230  0.385550  1.000000  0.359130   \n",
              "sigma_ad        0.663239  0.541082 -0.017399  0.137877  0.359130  1.000000   \n",
              "sigma_n         0.586870  0.592805  0.015611  0.174031  0.417790  0.700984   \n",
              "sigma_tp        0.389640  0.355014  0.020738  0.350330  0.834210  0.474809   \n",
              "sigma_per       0.650149  0.511667 -0.017764  0.157212  0.396576  0.928726   \n",
              "rms             0.252939  0.275113  0.131360  0.176592  0.202334  0.279765   \n",
              "\n",
              "                 sigma_n  sigma_tp  sigma_per       rms  \n",
              "pha             0.012246 -0.033666  -0.029708 -0.028652  \n",
              "H               0.441220  0.096022   0.185315  0.351746  \n",
              "diameter       -0.171099  0.060248   0.087797 -0.188449  \n",
              "albedo         -0.314824 -0.206473  -0.363036 -0.190768  \n",
              "diameter_sigma  0.168146  0.154747   0.187868  0.161465  \n",
              "epoch          -0.056011 -0.053974  -0.054109  0.027247  \n",
              "epoch_mjd      -0.056011 -0.053974  -0.054109  0.027247  \n",
              "epoch_cal      -0.056011 -0.053974  -0.054109  0.027247  \n",
              "e              -0.015630 -0.460053  -0.070388 -0.043091  \n",
              "a               0.238849  0.362213   0.571892  0.098483  \n",
              "q               0.189044  0.534382   0.459333  0.102849  \n",
              "i               0.230759  0.142644   0.243556 -0.017676  \n",
              "om              0.014443  0.014755   0.008055 -0.053054  \n",
              "w               0.006182 -0.014554   0.001889  0.021353  \n",
              "ma              0.081197  0.069735   0.061007  0.062168  \n",
              "ad              0.226087  0.157404   0.508029  0.069966  \n",
              "n              -0.238849 -0.362213  -0.571892 -0.098483  \n",
              "tp              0.071660  0.065685   0.061336  0.058058  \n",
              "tp_cal          0.071660  0.065685   0.061336  0.058058  \n",
              "per             0.238849  0.362213   0.571892  0.098483  \n",
              "per_y           0.238849  0.362213   0.571892  0.098483  \n",
              "moid            0.196845  0.537340   0.469337  0.100704  \n",
              "moid_ld         0.196845  0.537340   0.469337  0.100704  \n",
              "sigma_e         0.582800  0.298036   0.488100  0.263807  \n",
              "sigma_a         0.701397  0.523961   0.965599  0.282198  \n",
              "sigma_q         0.586870  0.389640   0.650149  0.252939  \n",
              "sigma_i         0.592805  0.355014   0.511667  0.275113  \n",
              "sigma_om        0.015611  0.020738  -0.017764  0.131360  \n",
              "sigma_w         0.174031  0.350330   0.157212  0.176592  \n",
              "sigma_ma        0.417790  0.834210   0.396576  0.202334  \n",
              "sigma_ad        0.700984  0.474809   0.928726  0.279765  \n",
              "sigma_n         1.000000  0.439465   0.666975  0.359964  \n",
              "sigma_tp        0.439465  1.000000   0.523911  0.206511  \n",
              "sigma_per       0.666975  0.523911   1.000000  0.268787  \n",
              "rms             0.359964  0.206511   0.268787  1.000000  \n",
              "\n",
              "[35 rows x 35 columns]"
            ]
          },
          "execution_count": 32,
          "metadata": {},
          "output_type": "execute_result"
        }
      ],
      "source": [
        "df.corr(method=\"kendall\")"
      ]
    },
    {
      "cell_type": "code",
      "execution_count": null,
      "id": "96dbff5a",
      "metadata": {
        "id": "96dbff5a"
      },
      "outputs": [],
      "source": [
        "#sns.scatterplot(x='n', y='e',hue='pha', data=df)\n",
        "# Placing Legend outside the Figure\n",
        "#plt.legend(bbox_to_anchor=(1, 1), loc=2)\n",
        "#plt.show()"
      ]
    },
    {
      "cell_type": "markdown",
      "id": "520b4248",
      "metadata": {
        "id": "520b4248"
      },
      "source": [
        "## Modelling"
      ]
    },
    {
      "cell_type": "code",
      "execution_count": null,
      "id": "76db3d45",
      "metadata": {
        "id": "76db3d45"
      },
      "outputs": [],
      "source": [
        "X = df.drop(['pha','id','full_name','neo','class'], axis=1)\n",
        "y = df['pha']"
      ]
    },
    {
      "cell_type": "code",
      "execution_count": null,
      "id": "2b7d7f5c",
      "metadata": {
        "id": "2b7d7f5c"
      },
      "outputs": [],
      "source": [
        "from sklearn.model_selection import train_test_split\n",
        "from sklearn.preprocessing import StandardScaler"
      ]
    },
    {
      "cell_type": "code",
      "execution_count": null,
      "id": "9bf077c2",
      "metadata": {
        "id": "9bf077c2"
      },
      "outputs": [],
      "source": [
        "X_train, X_test, y_train, y_test = train_test_split(X, y, test_size=0.3, random_state=42)"
      ]
    },
    {
      "cell_type": "code",
      "execution_count": null,
      "id": "1d75c210",
      "metadata": {
        "id": "1d75c210"
      },
      "outputs": [],
      "source": [
        "scaler = StandardScaler()\n",
        "\n",
        "X_train = scaler.fit_transform(X_train)\n",
        "X_test = scaler.transform(X_test)"
      ]
    },
    {
      "cell_type": "code",
      "execution_count": null,
      "id": "26cf479d",
      "metadata": {
        "id": "26cf479d"
      },
      "outputs": [],
      "source": [
        "from sklearn.linear_model import LogisticRegression\n",
        "from sklearn.neighbors import KNeighborsClassifier\n",
        "from sklearn.svm import SVC\n",
        "from sklearn.tree import DecisionTreeClassifier\n",
        "from sklearn.ensemble import RandomForestClassifier, AdaBoostClassifier, GradientBoostingClassifier"
      ]
    },
    {
      "cell_type": "code",
      "execution_count": null,
      "id": "b8c0e07e",
      "metadata": {
        "id": "b8c0e07e"
      },
      "outputs": [],
      "source": [
        "def fit_and_score(models, X_train, X_test, y_train, y_test):\n",
        "    np.random.seed(42)\n",
        "\n",
        "    model_scores = {}\n",
        "\n",
        "    for name, model in models.items():\n",
        "        model.fit(X_train,y_train)\n",
        "        model_scores[name] = model.score(X_test,y_test)\n",
        "\n",
        "    model_scores = pd.DataFrame(model_scores, index=['Score']).transpose()\n",
        "    model_scores = model_scores.sort_values('Score')\n",
        "\n",
        "    return model_scores"
      ]
    },
    {
      "cell_type": "code",
      "execution_count": null,
      "id": "ca9bb2ba",
      "metadata": {
        "id": "ca9bb2ba"
      },
      "outputs": [],
      "source": [
        "models = {'LogisticRegression': LogisticRegression(max_iter=10000),\n",
        "          'KNeighborsClassifier': KNeighborsClassifier(),\n",
        "          'SVC': SVC(),\n",
        "          'DecisionTreeClassifier': DecisionTreeClassifier(),\n",
        "          'RandomForestClassifier': RandomForestClassifier(),\n",
        "          'AdaBoostClassifier': AdaBoostClassifier(),\n",
        "          'GradientBoostingClassifier': GradientBoostingClassifier()}"
      ]
    },
    {
      "cell_type": "code",
      "execution_count": null,
      "id": "3652163f",
      "metadata": {
        "id": "3652163f"
      },
      "outputs": [],
      "source": [
        "MODEL_scores = fit_and_score(models, X_train, X_test, y_train, y_test)"
      ]
    },
    {
      "cell_type": "code",
      "execution_count": null,
      "id": "51b527ed",
      "metadata": {
        "id": "51b527ed",
        "outputId": "f8761593-5f29-4730-c6f0-d3c2ab401f4f"
      },
      "outputs": [
        {
          "data": {
            "text/html": [
              "<div>\n",
              "<style scoped>\n",
              "    .dataframe tbody tr th:only-of-type {\n",
              "        vertical-align: middle;\n",
              "    }\n",
              "\n",
              "    .dataframe tbody tr th {\n",
              "        vertical-align: top;\n",
              "    }\n",
              "\n",
              "    .dataframe thead th {\n",
              "        text-align: right;\n",
              "    }\n",
              "</style>\n",
              "<table border=\"1\" class=\"dataframe\">\n",
              "  <thead>\n",
              "    <tr style=\"text-align: right;\">\n",
              "      <th></th>\n",
              "      <th>Score</th>\n",
              "    </tr>\n",
              "  </thead>\n",
              "  <tbody>\n",
              "    <tr>\n",
              "      <th>KNeighborsClassifier</th>\n",
              "      <td>0.998246</td>\n",
              "    </tr>\n",
              "    <tr>\n",
              "      <th>SVC</th>\n",
              "      <td>0.998526</td>\n",
              "    </tr>\n",
              "    <tr>\n",
              "      <th>LogisticRegression</th>\n",
              "      <td>0.999263</td>\n",
              "    </tr>\n",
              "    <tr>\n",
              "      <th>RandomForestClassifier</th>\n",
              "      <td>0.999822</td>\n",
              "    </tr>\n",
              "    <tr>\n",
              "      <th>DecisionTreeClassifier</th>\n",
              "      <td>0.999949</td>\n",
              "    </tr>\n",
              "    <tr>\n",
              "      <th>GradientBoostingClassifier</th>\n",
              "      <td>0.999949</td>\n",
              "    </tr>\n",
              "    <tr>\n",
              "      <th>AdaBoostClassifier</th>\n",
              "      <td>1.000000</td>\n",
              "    </tr>\n",
              "  </tbody>\n",
              "</table>\n",
              "</div>"
            ],
            "text/plain": [
              "                               Score\n",
              "KNeighborsClassifier        0.998246\n",
              "SVC                         0.998526\n",
              "LogisticRegression          0.999263\n",
              "RandomForestClassifier      0.999822\n",
              "DecisionTreeClassifier      0.999949\n",
              "GradientBoostingClassifier  0.999949\n",
              "AdaBoostClassifier          1.000000"
            ]
          },
          "execution_count": 42,
          "metadata": {},
          "output_type": "execute_result"
        }
      ],
      "source": [
        "MODEL_scores.sort_values('Score')"
      ]
    },
    {
      "cell_type": "code",
      "execution_count": null,
      "id": "1c03be28",
      "metadata": {
        "id": "1c03be28",
        "outputId": "b5b8ad6f-7cb4-406f-e5e5-c77dff020b1b"
      },
      "outputs": [
        {
          "data": {
            "image/png": "[encoded data removed]",
            "text/plain": [
              "<Figure size 1440x720 with 1 Axes>"
            ]
          },
          "metadata": {
            "needs_background": "light"
          },
          "output_type": "display_data"
        }
      ],
      "source": [
        "plt.figure(figsize=(20,10))\n",
        "sns.barplot(data=MODEL_scores.sort_values('Score').T)\n",
        "plt.title('Model Precision Score')\n",
        "plt.xticks(rotation=90);"
      ]
    },
    {
      "cell_type": "markdown",
      "id": "e28c8e08",
      "metadata": {
        "id": "e28c8e08"
      },
      "source": [
        "# AdaBoost Classifier"
      ]
    },
    {
      "cell_type": "code",
      "execution_count": null,
      "id": "cd1671e4",
      "metadata": {
        "id": "cd1671e4"
      },
      "outputs": [],
      "source": [
        "model = AdaBoostClassifier()\n",
        "model.fit(X_train,y_train)\n",
        "y_preds = model.predict(X_test)"
      ]
    },
    {
      "cell_type": "code",
      "execution_count": null,
      "id": "58603a42",
      "metadata": {
        "id": "58603a42",
        "outputId": "e7cd3969-ee7d-42e2-d672-0c853cbb0f9f"
      },
      "outputs": [
        {
          "name": "stdout",
          "output_type": "stream",
          "text": [
            "Requirement already satisfied: scikit-learn in c:\\users\\admin\\anaconda3\\lib\\site-packages (1.2.2)\n",
            "Requirement already satisfied: joblib>=1.1.1 in c:\\users\\admin\\anaconda3\\lib\\site-packages (from scikit-learn) (1.2.0)\n",
            "Requirement already satisfied: numpy>=1.17.3 in c:\\users\\admin\\anaconda3\\lib\\site-packages (from scikit-learn) (1.20.1)\n",
            "Requirement already satisfied: threadpoolctl>=2.0.0 in c:\\users\\admin\\anaconda3\\lib\\site-packages (from scikit-learn) (2.1.0)\n",
            "Requirement already satisfied: scipy>=1.3.2 in c:\\users\\admin\\anaconda3\\lib\\site-packages (from scikit-learn) (1.6.2)\n",
            "Note: you may need to restart the kernel to use updated packages.\n"
          ]
        }
      ],
      "source": [
        "pip install --upgrade scikit-learn"
      ]
    },
    {
      "cell_type": "code",
      "execution_count": null,
      "id": "9339d478",
      "metadata": {
        "id": "9339d478"
      },
      "outputs": [],
      "source": [
        "from sklearn.metrics import confusion_matrix"
      ]
    },
    {
      "cell_type": "code",
      "execution_count": null,
      "id": "e47b306e",
      "metadata": {
        "id": "e47b306e",
        "outputId": "f99a5238-f767-4adf-aade-c5c47b80fe98"
      },
      "outputs": [
        {
          "name": "stdout",
          "output_type": "stream",
          "text": [
            "Requirement already satisfied: scikit-learn in c:\\users\\admin\\anaconda3\\lib\\site-packages (1.2.2)\n",
            "Requirement already satisfied: joblib>=1.1.1 in c:\\users\\admin\\anaconda3\\lib\\site-packages (from scikit-learn) (1.2.0)\n",
            "Requirement already satisfied: threadpoolctl>=2.0.0 in c:\\users\\admin\\anaconda3\\lib\\site-packages (from scikit-learn) (2.1.0)\n",
            "Requirement already satisfied: numpy>=1.17.3 in c:\\users\\admin\\anaconda3\\lib\\site-packages (from scikit-learn) (1.20.1)\n",
            "Requirement already satisfied: scipy>=1.3.2 in c:\\users\\admin\\anaconda3\\lib\\site-packages (from scikit-learn) (1.6.2)\n",
            "Note: you may need to restart the kernel to use updated packages.\n"
          ]
        }
      ],
      "source": [
        "pip install --upgrade scikit-learn"
      ]
    },
    {
      "cell_type": "code",
      "execution_count": null,
      "id": "73da2e23",
      "metadata": {
        "id": "73da2e23"
      },
      "outputs": [],
      "source": [
        "from sklearn.datasets import make_classification\n",
        "from sklearn.metrics import confusion_matrix, ConfusionMatrixDisplay"
      ]
    },
    {
      "cell_type": "code",
      "execution_count": null,
      "id": "dbfb868d",
      "metadata": {
        "id": "dbfb868d"
      },
      "outputs": [],
      "source": [
        "from sklearn.metrics import classification_report"
      ]
    },
    {
      "cell_type": "code",
      "execution_count": null,
      "id": "b3f7ad15",
      "metadata": {
        "id": "b3f7ad15",
        "outputId": "c0a27ef7-3579-4384-c017-760646630ea9"
      },
      "outputs": [
        {
          "name": "stdout",
          "output_type": "stream",
          "text": [
            "              precision    recall  f1-score   support\n",
            "\n",
            "           0       1.00      1.00      1.00     39285\n",
            "           1       1.00      1.00      1.00        58\n",
            "\n",
            "    accuracy                           1.00     39343\n",
            "   macro avg       1.00      1.00      1.00     39343\n",
            "weighted avg       1.00      1.00      1.00     39343\n",
            "\n"
          ]
        }
      ],
      "source": [
        "print(classification_report(y_test,y_preds))"
      ]
    },
    {
      "cell_type": "code",
      "execution_count": null,
      "id": "72d4edcc",
      "metadata": {
        "id": "72d4edcc",
        "outputId": "02261d1a-9b88-43e6-ac54-26ad80826297"
      },
      "outputs": [
        {
          "data": {
            "image/png": "[encoded data removed]",
            "text/plain": [
              "<Figure size 432x288 with 2 Axes>"
            ]
          },
          "metadata": {
            "needs_background": "light"
          },
          "output_type": "display_data"
        }
      ],
      "source": [
        "cm = confusion_matrix(y_test, y_preds, labels=model.classes_)\n",
        "disp = ConfusionMatrixDisplay(confusion_matrix=cm, display_labels=model.classes_)\n",
        "disp.plot()\n",
        "plt.show()"
      ]
    },
    {
      "cell_type": "code",
      "execution_count": null,
      "id": "421cc613",
      "metadata": {
        "id": "421cc613",
        "outputId": "98372771-f781-49cd-c424-86264c17470a"
      },
      "outputs": [
        {
          "name": "stdout",
          "output_type": "stream",
          "text": [
            "Requirement already satisfied: scikit-plot in c:\\users\\admin\\anaconda3\\lib\\site-packages (0.3.7)\n",
            "Requirement already satisfied: joblib>=0.10 in c:\\users\\admin\\anaconda3\\lib\\site-packages (from scikit-plot) (1.2.0)\n",
            "Requirement already satisfied: scikit-learn>=0.18 in c:\\users\\admin\\anaconda3\\lib\\site-packages (from scikit-plot) (1.2.2)\n",
            "Requirement already satisfied: scipy>=0.9 in c:\\users\\admin\\anaconda3\\lib\\site-packages (from scikit-plot) (1.6.2)\n",
            "Requirement already satisfied: matplotlib>=1.4.0 in c:\\users\\admin\\anaconda3\\lib\\site-packages (from scikit-plot) (3.3.4)\n",
            "Requirement already satisfied: kiwisolver>=1.0.1 in c:\\users\\admin\\anaconda3\\lib\\site-packages (from matplotlib>=1.4.0->scikit-plot) (1.3.1)\n",
            "Requirement already satisfied: numpy>=1.15 in c:\\users\\admin\\anaconda3\\lib\\site-packages (from matplotlib>=1.4.0->scikit-plot) (1.20.1)\n",
            "Requirement already satisfied: python-dateutil>=2.1 in c:\\users\\admin\\anaconda3\\lib\\site-packages (from matplotlib>=1.4.0->scikit-plot) (2.8.1)\n",
            "Requirement already satisfied: pillow>=6.2.0 in c:\\users\\admin\\anaconda3\\lib\\site-packages (from matplotlib>=1.4.0->scikit-plot) (8.2.0)\n",
            "Requirement already satisfied: cycler>=0.10 in c:\\users\\admin\\anaconda3\\lib\\site-packages (from matplotlib>=1.4.0->scikit-plot) (0.10.0)\n",
            "Requirement already satisfied: pyparsing!=2.0.4,!=2.1.2,!=2.1.6,>=2.0.3 in c:\\users\\admin\\anaconda3\\lib\\site-packages (from matplotlib>=1.4.0->scikit-plot) (2.4.7)\n",
            "Requirement already satisfied: six in c:\\users\\admin\\anaconda3\\lib\\site-packages (from cycler>=0.10->matplotlib>=1.4.0->scikit-plot) (1.15.0)\n",
            "Requirement already satisfied: threadpoolctl>=2.0.0 in c:\\users\\admin\\anaconda3\\lib\\site-packages (from scikit-learn>=0.18->scikit-plot) (2.1.0)\n",
            "Note: you may need to restart the kernel to use updated packages.\n"
          ]
        }
      ],
      "source": [
        "pip install scikit-plot"
      ]
    },
    {
      "cell_type": "code",
      "execution_count": null,
      "id": "5892accd",
      "metadata": {
        "id": "5892accd"
      },
      "outputs": [],
      "source": [
        "from scikitplot.metrics import plot_confusion_matrix,plot_roc_curve\n",
        "from sklearn import datasets,metrics"
      ]
    },
    {
      "cell_type": "code",
      "execution_count": null,
      "id": "96d05720",
      "metadata": {
        "id": "96d05720",
        "outputId": "e3a95f1f-3b82-4c9c-bde7-4b4c31917547"
      },
      "outputs": [
        {
          "name": "stdout",
          "output_type": "stream",
          "text": [
            "Requirement already satisfied: scikit-learn in c:\\users\\admin\\anaconda3\\lib\\site-packages (1.2.2)\n",
            "Requirement already satisfied: threadpoolctl>=2.0.0 in c:\\users\\admin\\anaconda3\\lib\\site-packages (from scikit-learn) (2.1.0)\n",
            "Requirement already satisfied: joblib>=1.1.1 in c:\\users\\admin\\anaconda3\\lib\\site-packages (from scikit-learn) (1.2.0)\n",
            "Requirement already satisfied: numpy>=1.17.3 in c:\\users\\admin\\anaconda3\\lib\\site-packages (from scikit-learn) (1.20.1)\n",
            "Requirement already satisfied: scipy>=1.3.2 in c:\\users\\admin\\anaconda3\\lib\\site-packages (from scikit-learn) (1.6.2)\n",
            "Note: you may need to restart the kernel to use updated packages.\n"
          ]
        }
      ],
      "source": [
        "pip install --upgrade scikit-learn"
      ]
    },
    {
      "cell_type": "code",
      "execution_count": null,
      "id": "ee32971f",
      "metadata": {
        "id": "ee32971f",
        "outputId": "139df07c-57b4-4533-8682-9c19f8915844"
      },
      "outputs": [
        {
          "data": {
            "image/png": "[encoded data removed]",
            "text/plain": [
              "<Figure size 432x288 with 1 Axes>"
            ]
          },
          "metadata": {
            "needs_background": "light"
          },
          "output_type": "display_data"
        }
      ],
      "source": [
        "fpr, tpr, thresholds = metrics.roc_curve(y_test, y_preds)\n",
        "roc_auc = metrics.auc(fpr, tpr)\n",
        "display = metrics.RocCurveDisplay(fpr=fpr, tpr=tpr, roc_auc=roc_auc, estimator_name='example estimator')\n",
        "display.plot()\n",
        "plt.show()"
      ]
    },
    {
      "cell_type": "code",
      "execution_count": null,
      "id": "51cd20eb",
      "metadata": {
        "id": "51cd20eb"
      },
      "outputs": [],
      "source": [
        "from sklearn.model_selection import cross_val_score\n"
      ]
    },
    {
      "cell_type": "code",
      "execution_count": null,
      "id": "f835a15a",
      "metadata": {
        "id": "f835a15a"
      },
      "outputs": [],
      "source": [
        "cv_acc = cross_val_score(model,X,y,cv=5,scoring='accuracy')\n",
        "cv_acc = cv_acc.mean()\n"
      ]
    },
    {
      "cell_type": "code",
      "execution_count": null,
      "id": "584df930",
      "metadata": {
        "id": "584df930",
        "outputId": "7a09bede-5720-4d1d-fa93-dd518c7e2b7e"
      },
      "outputs": [
        {
          "data": {
            "text/plain": [
              "Text(0.5, 1.0, 'CV scores')"
            ]
          },
          "execution_count": 58,
          "metadata": {},
          "output_type": "execute_result"
        },
        {
          "data": {
            "image/png": "[encoded data removed]",
            "text/plain": [
              "<Figure size 432x288 with 1 Axes>"
            ]
          },
          "metadata": {
            "needs_background": "light"
          },
          "output_type": "display_data"
        }
      ],
      "source": [
        "cv_precision = cross_val_score(model,X,y,cv=5,scoring='precision')\n",
        "cv_precision.mean()\n",
        "cv_recall = cross_val_score(model,X,y,cv=5,scoring='recall')\n",
        "cv_recall.mean()\n",
        "cv_f1 = cross_val_score(model,X,y,cv=5,scoring='f1')\n",
        "cv_f1.mean()\n",
        "cv_merics = pd.DataFrame({'Accuracy': cv_acc.mean(),'Precision': cv_precision.mean(),'Recall': cv_recall.mean(),'f1': cv_recall.mean()},index=[0])\n",
        "sns.barplot(data=cv_merics)\n",
        "plt.title('CV scores')"
      ]
    },
    {
      "cell_type": "code",
      "execution_count": null,
      "id": "cd5e98c5",
      "metadata": {
        "id": "cd5e98c5"
      },
      "outputs": [],
      "source": []
    },
    {
      "cell_type": "code",
      "execution_count": null,
      "id": "15f4d049",
      "metadata": {
        "id": "15f4d049"
      },
      "outputs": [],
      "source": [
        "table = pd.DataFrame({'Model': \"AdaBoost\",'Accuracy': cv_acc.mean(),'Precision': cv_precision.mean(),'Recall': cv_recall.mean(),'f1': cv_f1.mean()},index=[0])"
      ]
    },
    {
      "cell_type": "code",
      "execution_count": null,
      "id": "76e773bf",
      "metadata": {
        "id": "76e773bf",
        "outputId": "7497c2e6-a602-4e51-ccd7-15d0f94cc2b0"
      },
      "outputs": [
        {
          "data": {
            "text/html": [
              "<div>\n",
              "<style scoped>\n",
              "    .dataframe tbody tr th:only-of-type {\n",
              "        vertical-align: middle;\n",
              "    }\n",
              "\n",
              "    .dataframe tbody tr th {\n",
              "        vertical-align: top;\n",
              "    }\n",
              "\n",
              "    .dataframe thead th {\n",
              "        text-align: right;\n",
              "    }\n",
              "</style>\n",
              "<table border=\"1\" class=\"dataframe\">\n",
              "  <thead>\n",
              "    <tr style=\"text-align: right;\">\n",
              "      <th></th>\n",
              "      <th>Accuracy</th>\n",
              "      <th>Precision</th>\n",
              "      <th>Recall</th>\n",
              "      <th>f1</th>\n",
              "    </tr>\n",
              "  </thead>\n",
              "  <tbody>\n",
              "    <tr>\n",
              "      <th>0</th>\n",
              "      <td>0.999497</td>\n",
              "      <td>0.873469</td>\n",
              "      <td>0.977778</td>\n",
              "      <td>0.977778</td>\n",
              "    </tr>\n",
              "  </tbody>\n",
              "</table>\n",
              "</div>"
            ],
            "text/plain": [
              "   Accuracy  Precision    Recall        f1\n",
              "0  0.999497   0.873469  0.977778  0.977778"
            ]
          },
          "execution_count": 60,
          "metadata": {},
          "output_type": "execute_result"
        }
      ],
      "source": [
        "cv_merics"
      ]
    },
    {
      "cell_type": "code",
      "execution_count": null,
      "id": "cdf4a64e",
      "metadata": {
        "id": "cdf4a64e"
      },
      "outputs": [],
      "source": [
        "feat_importances = pd.DataFrame(model.feature_importances_, index=X.columns)"
      ]
    },
    {
      "cell_type": "code",
      "execution_count": null,
      "id": "e3b5b07e",
      "metadata": {
        "id": "e3b5b07e",
        "outputId": "c4f131db-5ede-4e78-a142-801032b9b615"
      },
      "outputs": [
        {
          "data": {
            "image/png": "[encoded data removed]",
            "text/plain": [
              "<Figure size 1440x720 with 1 Axes>"
            ]
          },
          "metadata": {
            "needs_background": "light"
          },
          "output_type": "display_data"
        }
      ],
      "source": [
        "plt.figure(figsize=(20,10))\n",
        "plt.xticks(rotation=90)\n",
        "plt.title('Feature Importances')\n",
        "sns.barplot(data= feat_importances.sort_values(0).T);"
      ]
    },
    {
      "cell_type": "markdown",
      "id": "78be7c49",
      "metadata": {
        "id": "78be7c49"
      },
      "source": [
        "# Logistic Regression"
      ]
    },
    {
      "cell_type": "code",
      "execution_count": null,
      "id": "4161e5bf",
      "metadata": {
        "id": "4161e5bf"
      },
      "outputs": [],
      "source": [
        "model = LogisticRegression(max_iter=10000)\n",
        "model.fit(X_train,y_train)\n",
        "y_preds = model.predict(X_test)"
      ]
    },
    {
      "cell_type": "code",
      "execution_count": null,
      "id": "aa5d32af",
      "metadata": {
        "id": "aa5d32af",
        "outputId": "fea4c4c9-09d6-432d-f5f4-731fc9de3ee8"
      },
      "outputs": [
        {
          "data": {
            "image/png": "[encoded data removed]",
            "text/plain": [
              "<Figure size 432x288 with 2 Axes>"
            ]
          },
          "metadata": {
            "needs_background": "light"
          },
          "output_type": "display_data"
        }
      ],
      "source": [
        "cm = confusion_matrix(y_test, y_preds, labels=model.classes_)\n",
        "disp = ConfusionMatrixDisplay(confusion_matrix=cm, display_labels=model.classes_)\n",
        "disp.plot()\n",
        "plt.show()"
      ]
    },
    {
      "cell_type": "code",
      "execution_count": null,
      "id": "3709d3ab",
      "metadata": {
        "id": "3709d3ab",
        "outputId": "de94b97f-49b3-4649-cf7e-0c1c7177c6cf"
      },
      "outputs": [
        {
          "data": {
            "image/png": "[encoded data removed]",
            "text/plain": [
              "<Figure size 432x288 with 1 Axes>"
            ]
          },
          "metadata": {
            "needs_background": "light"
          },
          "output_type": "display_data"
        }
      ],
      "source": [
        "fpr, tpr, thresholds = metrics.roc_curve(y_test, y_preds)\n",
        "roc_auc = metrics.auc(fpr, tpr)\n",
        "display = metrics.RocCurveDisplay(fpr=fpr, tpr=tpr, roc_auc=roc_auc, estimator_name='example estimator')\n",
        "display.plot()\n",
        "plt.show()"
      ]
    },
    {
      "cell_type": "code",
      "execution_count": null,
      "id": "17b940fe",
      "metadata": {
        "id": "17b940fe"
      },
      "outputs": [],
      "source": [
        "def metricCalculation(y_test, pred, name, table):\n",
        "\n",
        "    precision_metric = metrics.precision_score(y_test, pred, average = \"macro\")\n",
        "    recall_metric = metrics.recall_score(y_test, pred, average = \"macro\")\n",
        "    accuracy_metric = metrics.accuracy_score(y_test, pred)\n",
        "    f1_metric = metrics.f1_score(y_test, pred, average = \"macro\")\n",
        "    print('Precision metric:',round(precision_metric, 2))\n",
        "    print('Recall Metric:',round(recall_metric, 2))\n",
        "    print('Accuracy Metric:',round(accuracy_metric, 4))\n",
        "    print('F1 score:',round(f1_metric, 2))\n",
        "\n",
        "    metrics1 = pd.DataFrame({'Accuracy': accuracy_metric,'Precision': precision_metric,'Recall': recall_metric,'f1': f1_metric},index=[0])\n",
        "    sns.barplot(data=metrics1)\n",
        "    plt.title('scores')\n",
        "\n",
        "    df2 = {'Model': name,'Accuracy': accuracy_metric,'Precision': precision_metric,'Recall': recall_metric,'f1': f1_metric}\n",
        "    table = table.append(df2,ignore_index= True)\n",
        "    return(table)"
      ]
    },
    {
      "cell_type": "code",
      "execution_count": null,
      "id": "2f0b6fe3",
      "metadata": {
        "id": "2f0b6fe3",
        "outputId": "53bc9201-489c-4fb6-8eff-b623be686104"
      },
      "outputs": [
        {
          "name": "stdout",
          "output_type": "stream",
          "text": [
            "Precision metric: 0.95\n",
            "Recall Metric: 0.78\n",
            "Accuracy Metric: 0.9993\n",
            "F1 score: 0.85\n"
          ]
        },
        {
          "data": {
            "image/png": "[encoded data removed]",
            "text/plain": [
              "<Figure size 432x288 with 1 Axes>"
            ]
          },
          "metadata": {
            "needs_background": "light"
          },
          "output_type": "display_data"
        }
      ],
      "source": [
        "table = metricCalculation(y_test, y_preds, \"Logistic-Regression\", table)"
      ]
    },
    {
      "cell_type": "markdown",
      "id": "5f3a1f3e",
      "metadata": {
        "id": "5f3a1f3e"
      },
      "source": [
        "# KNN classifier"
      ]
    },
    {
      "cell_type": "code",
      "execution_count": null,
      "id": "1168ab6a",
      "metadata": {
        "id": "1168ab6a"
      },
      "outputs": [],
      "source": [
        "model = KNeighborsClassifier()\n",
        "model.fit(X_train,y_train)\n",
        "y_preds = model.predict(X_test)"
      ]
    },
    {
      "cell_type": "code",
      "execution_count": null,
      "id": "dd1af892",
      "metadata": {
        "id": "dd1af892",
        "outputId": "4db3aed7-1e4e-44ab-c15d-63667562dd58"
      },
      "outputs": [
        {
          "data": {
            "image/png": "[encoded data removed]",
            "text/plain": [
              "<Figure size 432x288 with 2 Axes>"
            ]
          },
          "metadata": {
            "needs_background": "light"
          },
          "output_type": "display_data"
        }
      ],
      "source": [
        "cm = confusion_matrix(y_test, y_preds, labels=model.classes_)\n",
        "disp = ConfusionMatrixDisplay(confusion_matrix=cm, display_labels=model.classes_)\n",
        "disp.plot()\n",
        "plt.show()"
      ]
    },
    {
      "cell_type": "code",
      "execution_count": null,
      "id": "b709a365",
      "metadata": {
        "id": "b709a365",
        "outputId": "fc6ea506-ed67-48c0-e86d-793fc266a037"
      },
      "outputs": [
        {
          "data": {
            "image/png": "[encoded data removed]",
            "text/plain": [
              "<Figure size 432x288 with 1 Axes>"
            ]
          },
          "metadata": {
            "needs_background": "light"
          },
          "output_type": "display_data"
        }
      ],
      "source": [
        "fpr, tpr, thresholds = metrics.roc_curve(y_test, y_preds)\n",
        "roc_auc = metrics.auc(fpr, tpr)\n",
        "display = metrics.RocCurveDisplay(fpr=fpr, tpr=tpr, roc_auc=roc_auc, estimator_name='example estimator')\n",
        "display.plot()\n",
        "plt.show()"
      ]
    },
    {
      "cell_type": "code",
      "execution_count": null,
      "id": "dac2cca7",
      "metadata": {
        "id": "dac2cca7",
        "outputId": "8e8e0f9f-43c3-44bd-cd8f-ee6188dfc712"
      },
      "outputs": [
        {
          "name": "stdout",
          "output_type": "stream",
          "text": [
            "Precision metric: 0.64\n",
            "Recall Metric: 0.56\n",
            "Accuracy Metric: 0.9982\n",
            "F1 score: 0.58\n"
          ]
        },
        {
          "data": {
            "image/png": "[encoded data removed]",
            "text/plain": [
              "<Figure size 432x288 with 1 Axes>"
            ]
          },
          "metadata": {
            "needs_background": "light"
          },
          "output_type": "display_data"
        }
      ],
      "source": [
        "table = metricCalculation(y_test, y_preds,\"KNN\",table)"
      ]
    },
    {
      "cell_type": "markdown",
      "id": "287c6b35",
      "metadata": {
        "id": "287c6b35"
      },
      "source": [
        "# Decision Tree"
      ]
    },
    {
      "cell_type": "code",
      "execution_count": null,
      "id": "8c583fe1",
      "metadata": {
        "id": "8c583fe1"
      },
      "outputs": [],
      "source": [
        "model = DecisionTreeClassifier()\n",
        "model.fit(X_train,y_train)\n",
        "y_preds = model.predict(X_test)"
      ]
    },
    {
      "cell_type": "code",
      "execution_count": null,
      "id": "835bd43b",
      "metadata": {
        "id": "835bd43b",
        "outputId": "9b65d92f-7b29-4f87-8bd4-55a18293940e"
      },
      "outputs": [
        {
          "data": {
            "image/png": "[encoded data removed]",
            "text/plain": [
              "<Figure size 432x288 with 2 Axes>"
            ]
          },
          "metadata": {
            "needs_background": "light"
          },
          "output_type": "display_data"
        }
      ],
      "source": [
        "cm = confusion_matrix(y_test, y_preds, labels=model.classes_)\n",
        "disp = ConfusionMatrixDisplay(confusion_matrix=cm, display_labels=model.classes_)\n",
        "disp.plot()\n",
        "plt.show()"
      ]
    },
    {
      "cell_type": "code",
      "execution_count": null,
      "id": "2ec7635d",
      "metadata": {
        "id": "2ec7635d",
        "outputId": "d3628942-b659-4593-f4fc-4b16db8bd02c"
      },
      "outputs": [
        {
          "data": {
            "image/png": "[encoded data removed]",
            "text/plain": [
              "<Figure size 432x288 with 1 Axes>"
            ]
          },
          "metadata": {
            "needs_background": "light"
          },
          "output_type": "display_data"
        }
      ],
      "source": [
        "fpr, tpr, thresholds = metrics.roc_curve(y_test, y_preds)\n",
        "roc_auc = metrics.auc(fpr, tpr)\n",
        "display = metrics.RocCurveDisplay(fpr=fpr, tpr=tpr, roc_auc=roc_auc, estimator_name='example estimator')\n",
        "display.plot()\n",
        "plt.show()"
      ]
    },
    {
      "cell_type": "code",
      "execution_count": null,
      "id": "a7d735d8",
      "metadata": {
        "id": "a7d735d8",
        "outputId": "39cdfcab-0956-4105-d6b7-c62616255ed9"
      },
      "outputs": [
        {
          "name": "stdout",
          "output_type": "stream",
          "text": [
            "Precision metric: 0.99\n",
            "Recall Metric: 0.99\n",
            "Accuracy Metric: 0.9999\n",
            "F1 score: 0.99\n"
          ]
        },
        {
          "data": {
            "image/png": "[encoded data removed]",
            "text/plain": [
              "<Figure size 432x288 with 1 Axes>"
            ]
          },
          "metadata": {
            "needs_background": "light"
          },
          "output_type": "display_data"
        }
      ],
      "source": [
        "table = metricCalculation(y_test, y_preds,\"Decision-Tree\",table)"
      ]
    },
    {
      "cell_type": "markdown",
      "id": "89cbcf81",
      "metadata": {
        "id": "89cbcf81"
      },
      "source": [
        "# Random Forest"
      ]
    },
    {
      "cell_type": "code",
      "execution_count": null,
      "id": "1c314be7",
      "metadata": {
        "id": "1c314be7"
      },
      "outputs": [],
      "source": [
        "model = RandomForestClassifier()\n",
        "model.fit(X_train,y_train)\n",
        "y_preds = model.predict(X_test)"
      ]
    },
    {
      "cell_type": "code",
      "execution_count": null,
      "id": "d88b934c",
      "metadata": {
        "id": "d88b934c",
        "outputId": "fae470f7-65fb-49b6-c80d-1a423cb2c317"
      },
      "outputs": [
        {
          "data": {
            "image/png": "[encoded data removed]",
            "text/plain": [
              "<Figure size 432x288 with 2 Axes>"
            ]
          },
          "metadata": {
            "needs_background": "light"
          },
          "output_type": "display_data"
        }
      ],
      "source": [
        "cm = confusion_matrix(y_test, y_preds, labels=model.classes_)\n",
        "disp = ConfusionMatrixDisplay(confusion_matrix=cm, display_labels=model.classes_)\n",
        "disp.plot()\n",
        "plt.show()"
      ]
    },
    {
      "cell_type": "code",
      "execution_count": null,
      "id": "c6cca1bc",
      "metadata": {
        "id": "c6cca1bc",
        "outputId": "3147d5cf-427e-40f0-9e20-56da921e802e"
      },
      "outputs": [
        {
          "data": {
            "image/png": "[encoded data removed]",
            "text/plain": [
              "<Figure size 432x288 with 1 Axes>"
            ]
          },
          "metadata": {
            "needs_background": "light"
          },
          "output_type": "display_data"
        }
      ],
      "source": [
        "fpr, tpr, thresholds = metrics.roc_curve(y_test, y_preds)\n",
        "roc_auc = metrics.auc(fpr, tpr)\n",
        "display = metrics.RocCurveDisplay(fpr=fpr, tpr=tpr, roc_auc=roc_auc, estimator_name='example estimator')\n",
        "display.plot()\n",
        "plt.show()"
      ]
    },
    {
      "cell_type": "code",
      "execution_count": null,
      "id": "38468b72",
      "metadata": {
        "id": "38468b72",
        "outputId": "e57dc7b8-02e5-40a6-c70f-d69283223459"
      },
      "outputs": [
        {
          "name": "stdout",
          "output_type": "stream",
          "text": [
            "Precision metric: 0.97\n",
            "Recall Metric: 0.97\n",
            "Accuracy Metric: 0.9998\n",
            "F1 score: 0.97\n"
          ]
        },
        {
          "data": {
            "image/png": "[encoded data removed]",
            "text/plain": [
              "<Figure size 432x288 with 1 Axes>"
            ]
          },
          "metadata": {
            "needs_background": "light"
          },
          "output_type": "display_data"
        }
      ],
      "source": [
        "table = metricCalculation(y_test, y_preds,\"Random-Forest\",table)"
      ]
    },
    {
      "cell_type": "code",
      "execution_count": null,
      "id": "d861226c",
      "metadata": {
        "id": "d861226c"
      },
      "outputs": [],
      "source": [
        "feat_importances = pd.DataFrame(model.feature_importances_, index=X.columns)"
      ]
    },
    {
      "cell_type": "code",
      "execution_count": null,
      "id": "af1b1a65",
      "metadata": {
        "id": "af1b1a65",
        "outputId": "4c2fa8ba-69d5-4344-a461-151d37b02fee"
      },
      "outputs": [
        {
          "data": {
            "image/png": "[encoded data removed]",
            "text/plain": [
              "<Figure size 1440x720 with 1 Axes>"
            ]
          },
          "metadata": {
            "needs_background": "light"
          },
          "output_type": "display_data"
        }
      ],
      "source": [
        "plt.figure(figsize=(20,10))\n",
        "plt.xticks(rotation=90)\n",
        "plt.title('Feature Importances')\n",
        "sns.barplot(data= feat_importances.sort_values(0).T);"
      ]
    },
    {
      "cell_type": "markdown",
      "id": "df43d149",
      "metadata": {
        "id": "df43d149"
      },
      "source": [
        "# SVC"
      ]
    },
    {
      "cell_type": "code",
      "execution_count": null,
      "id": "ae0a2441",
      "metadata": {
        "id": "ae0a2441"
      },
      "outputs": [],
      "source": [
        "model = SVC()\n",
        "model.fit(X_train,y_train)\n",
        "y_preds = model.predict(X_test)"
      ]
    },
    {
      "cell_type": "code",
      "execution_count": null,
      "id": "e2e468c0",
      "metadata": {
        "id": "e2e468c0",
        "outputId": "dfd5a32f-0b41-4d3a-df1c-bea6f22260c5"
      },
      "outputs": [
        {
          "data": {
            "image/png": "[encoded data removed]",
            "text/plain": [
              "<Figure size 432x288 with 2 Axes>"
            ]
          },
          "metadata": {
            "needs_background": "light"
          },
          "output_type": "display_data"
        }
      ],
      "source": [
        "cm = confusion_matrix(y_test, y_preds, labels=model.classes_)\n",
        "disp = ConfusionMatrixDisplay(confusion_matrix=cm, display_labels=model.classes_)\n",
        "disp.plot()\n",
        "plt.show()"
      ]
    },
    {
      "cell_type": "code",
      "execution_count": null,
      "id": "8ed1bc95",
      "metadata": {
        "id": "8ed1bc95",
        "outputId": "bcea27c7-1b58-4b5f-a945-6c426dabe68c"
      },
      "outputs": [
        {
          "data": {
            "image/png": "[encoded data removed]",
            "text/plain": [
              "<Figure size 432x288 with 1 Axes>"
            ]
          },
          "metadata": {
            "needs_background": "light"
          },
          "output_type": "display_data"
        }
      ],
      "source": [
        "fpr, tpr, thresholds = metrics.roc_curve(y_test, y_preds)\n",
        "roc_auc = metrics.auc(fpr, tpr)\n",
        "display = metrics.RocCurveDisplay(fpr=fpr, tpr=tpr, roc_auc=roc_auc, estimator_name='example estimator')\n",
        "display.plot()\n",
        "plt.show()"
      ]
    },
    {
      "cell_type": "code",
      "execution_count": null,
      "id": "8d670acf",
      "metadata": {
        "id": "8d670acf",
        "outputId": "66384deb-56a1-48bc-c43e-3934e06c3a15"
      },
      "outputs": [
        {
          "name": "stdout",
          "output_type": "stream",
          "text": [
            "Precision metric: 0.5\n",
            "Recall Metric: 0.5\n",
            "Accuracy Metric: 0.9985\n",
            "F1 score: 0.5\n"
          ]
        },
        {
          "name": "stderr",
          "output_type": "stream",
          "text": [
            "C:\\Users\\Admin\\anaconda3\\lib\\site-packages\\sklearn\\metrics\\_classification.py:1344: UndefinedMetricWarning: Precision is ill-defined and being set to 0.0 in labels with no predicted samples. Use `zero_division` parameter to control this behavior.\n",
            "  _warn_prf(average, modifier, msg_start, len(result))\n"
          ]
        },
        {
          "data": {
            "image/png": "[encoded data removed]",
            "text/plain": [
              "<Figure size 432x288 with 1 Axes>"
            ]
          },
          "metadata": {
            "needs_background": "light"
          },
          "output_type": "display_data"
        }
      ],
      "source": [
        "table = metricCalculation(y_test, y_preds,\"SVC\",table)"
      ]
    },
    {
      "cell_type": "markdown",
      "id": "2ea9c104",
      "metadata": {
        "id": "2ea9c104"
      },
      "source": [
        "# Gradient Boosting"
      ]
    },
    {
      "cell_type": "code",
      "execution_count": null,
      "id": "fc89596b",
      "metadata": {
        "id": "fc89596b"
      },
      "outputs": [],
      "source": [
        "model = GradientBoostingClassifier()\n",
        "model.fit(X_train,y_train)\n",
        "y_preds = model.predict(X_test)"
      ]
    },
    {
      "cell_type": "code",
      "execution_count": null,
      "id": "513ba228",
      "metadata": {
        "id": "513ba228",
        "outputId": "e83f807f-6b10-463d-e299-51904d8895d0"
      },
      "outputs": [
        {
          "data": {
            "image/png": "[encoded data removed]",
            "text/plain": [
              "<Figure size 432x288 with 2 Axes>"
            ]
          },
          "metadata": {
            "needs_background": "light"
          },
          "output_type": "display_data"
        }
      ],
      "source": [
        "cm = confusion_matrix(y_test, y_preds, labels=model.classes_)\n",
        "disp = ConfusionMatrixDisplay(confusion_matrix=cm, display_labels=model.classes_)\n",
        "disp.plot()\n",
        "plt.show()"
      ]
    },
    {
      "cell_type": "code",
      "execution_count": null,
      "id": "71267709",
      "metadata": {
        "id": "71267709",
        "outputId": "8d2e986b-d9d3-4710-b643-c641b37dcbc9"
      },
      "outputs": [
        {
          "data": {
            "image/png": "[encoded data removed]",
            "text/plain": [
              "<Figure size 432x288 with 1 Axes>"
            ]
          },
          "metadata": {
            "needs_background": "light"
          },
          "output_type": "display_data"
        }
      ],
      "source": [
        "fpr, tpr, thresholds = metrics.roc_curve(y_test, y_preds)\n",
        "roc_auc = metrics.auc(fpr, tpr)\n",
        "display = metrics.RocCurveDisplay(fpr=fpr, tpr=tpr, roc_auc=roc_auc, estimator_name='example estimator')\n",
        "display.plot()\n",
        "plt.show()"
      ]
    },
    {
      "cell_type": "code",
      "execution_count": null,
      "id": "339a5a01",
      "metadata": {
        "id": "339a5a01",
        "outputId": "5b28ed29-a120-4e4c-b6b3-9d833f8379c9"
      },
      "outputs": [
        {
          "name": "stdout",
          "output_type": "stream",
          "text": [
            "Precision metric: 0.99\n",
            "Recall Metric: 0.99\n",
            "Accuracy Metric: 0.9999\n",
            "F1 score: 0.99\n"
          ]
        },
        {
          "data": {
            "image/png": "[encoded data removed]",
            "text/plain": [
              "<Figure size 432x288 with 1 Axes>"
            ]
          },
          "metadata": {
            "needs_background": "light"
          },
          "output_type": "display_data"
        }
      ],
      "source": [
        "table = metricCalculation(y_test, y_preds,\"Gradient-Boosting\",table)"
      ]
    },
    {
      "cell_type": "code",
      "execution_count": null,
      "id": "faaa40e5",
      "metadata": {
        "id": "faaa40e5"
      },
      "outputs": [],
      "source": [
        "feat_importances = pd.DataFrame(model.feature_importances_, index=X.columns)"
      ]
    },
    {
      "cell_type": "code",
      "execution_count": null,
      "id": "97ae4b66",
      "metadata": {
        "id": "97ae4b66",
        "outputId": "60f64e86-38c2-40b9-9efe-7046bbcaf490"
      },
      "outputs": [
        {
          "data": {
            "image/png": "[encoded data removed]",
            "text/plain": [
              "<Figure size 1440x720 with 1 Axes>"
            ]
          },
          "metadata": {
            "needs_background": "light"
          },
          "output_type": "display_data"
        }
      ],
      "source": [
        "plt.figure(figsize=(20,10))\n",
        "plt.xticks(rotation=90)\n",
        "plt.title('Feature Importances')\n",
        "sns.barplot(data= feat_importances.sort_values(0).T);"
      ]
    },
    {
      "cell_type": "code",
      "execution_count": null,
      "id": "d23e5342",
      "metadata": {
        "id": "d23e5342",
        "outputId": "5f7ee470-d242-4ae2-a25b-496374b0e7a5"
      },
      "outputs": [
        {
          "data": {
            "text/html": [
              "<div>\n",
              "<style scoped>\n",
              "    .dataframe tbody tr th:only-of-type {\n",
              "        vertical-align: middle;\n",
              "    }\n",
              "\n",
              "    .dataframe tbody tr th {\n",
              "        vertical-align: top;\n",
              "    }\n",
              "\n",
              "    .dataframe thead th {\n",
              "        text-align: right;\n",
              "    }\n",
              "</style>\n",
              "<table border=\"1\" class=\"dataframe\">\n",
              "  <thead>\n",
              "    <tr style=\"text-align: right;\">\n",
              "      <th></th>\n",
              "      <th>Model</th>\n",
              "      <th>Accuracy</th>\n",
              "      <th>Precision</th>\n",
              "      <th>Recall</th>\n",
              "      <th>f1</th>\n",
              "    </tr>\n",
              "  </thead>\n",
              "  <tbody>\n",
              "    <tr>\n",
              "      <th>0</th>\n",
              "      <td>AdaBoost</td>\n",
              "      <td>0.999497</td>\n",
              "      <td>0.873469</td>\n",
              "      <td>0.977778</td>\n",
              "      <td>0.895698</td>\n",
              "    </tr>\n",
              "    <tr>\n",
              "      <th>1</th>\n",
              "      <td>Logistic-Regression</td>\n",
              "      <td>0.999263</td>\n",
              "      <td>0.945628</td>\n",
              "      <td>0.784432</td>\n",
              "      <td>0.847184</td>\n",
              "    </tr>\n",
              "    <tr>\n",
              "      <th>2</th>\n",
              "      <td>KNN</td>\n",
              "      <td>0.998246</td>\n",
              "      <td>0.639351</td>\n",
              "      <td>0.560116</td>\n",
              "      <td>0.583898</td>\n",
              "    </tr>\n",
              "    <tr>\n",
              "      <th>3</th>\n",
              "      <td>Decision-Tree</td>\n",
              "      <td>0.999949</td>\n",
              "      <td>0.991367</td>\n",
              "      <td>0.991367</td>\n",
              "      <td>0.991367</td>\n",
              "    </tr>\n",
              "    <tr>\n",
              "      <th>4</th>\n",
              "      <td>Random-Forest</td>\n",
              "      <td>0.999822</td>\n",
              "      <td>0.973633</td>\n",
              "      <td>0.965479</td>\n",
              "      <td>0.969521</td>\n",
              "    </tr>\n",
              "    <tr>\n",
              "      <th>5</th>\n",
              "      <td>SVC</td>\n",
              "      <td>0.998526</td>\n",
              "      <td>0.499263</td>\n",
              "      <td>0.500000</td>\n",
              "      <td>0.499631</td>\n",
              "    </tr>\n",
              "    <tr>\n",
              "      <th>6</th>\n",
              "      <td>Gradient-Boosting</td>\n",
              "      <td>0.999949</td>\n",
              "      <td>0.991367</td>\n",
              "      <td>0.991367</td>\n",
              "      <td>0.991367</td>\n",
              "    </tr>\n",
              "  </tbody>\n",
              "</table>\n",
              "</div>"
            ],
            "text/plain": [
              "                 Model  Accuracy  Precision    Recall        f1\n",
              "0             AdaBoost  0.999497   0.873469  0.977778  0.895698\n",
              "1  Logistic-Regression  0.999263   0.945628  0.784432  0.847184\n",
              "2                  KNN  0.998246   0.639351  0.560116  0.583898\n",
              "3        Decision-Tree  0.999949   0.991367  0.991367  0.991367\n",
              "4        Random-Forest  0.999822   0.973633  0.965479  0.969521\n",
              "5                  SVC  0.998526   0.499263  0.500000  0.499631\n",
              "6    Gradient-Boosting  0.999949   0.991367  0.991367  0.991367"
            ]
          },
          "execution_count": 92,
          "metadata": {},
          "output_type": "execute_result"
        }
      ],
      "source": [
        "table"
      ]
    }
  ],
  "metadata": {
    "kernelspec": {
      "display_name": "Python 3",
      "language": "python",
      "name": "python3"
    },
    "language_info": {
      "codemirror_mode": {
        "name": "ipython",
        "version": 3
      },
      "file_extension": ".py",
      "mimetype": "text/x-python",
      "name": "python",
      "nbconvert_exporter": "python",
      "pygments_lexer": "ipython3",
      "version": "3.8.8"
    },
    "colab": {
      "provenance": [],
      "include_colab_link": true
    }
  },
  "nbformat": 4,
  "nbformat_minor": 5
}